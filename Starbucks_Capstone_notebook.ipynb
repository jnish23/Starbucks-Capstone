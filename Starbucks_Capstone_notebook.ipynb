{
 "cells": [
  {
   "cell_type": "markdown",
   "metadata": {},
   "source": [
    "# Starbucks Capstone Challenge\n",
    "\n",
    "### Introduction\n",
    "\n",
    "This data set contains simulated data that mimics customer behavior on the Starbucks rewards mobile app. Once every few days, Starbucks sends out an offer to users of the mobile app. An offer can be merely an advertisement for a drink or an actual offer such as a discount or BOGO (buy one get one free). Some users might not receive any offer during certain weeks. \n",
    "\n",
    "Not all users receive the same offer, and that is the challenge to solve with this data set.\n",
    "\n",
    "Your task is to combine transaction, demographic and offer data to determine which demographic groups respond best to which offer type. This data set is a simplified version of the real Starbucks app because the underlying simulator only has one product whereas Starbucks actually sells dozens of products.\n",
    "\n",
    "Every offer has a validity period before the offer expires. As an example, a BOGO offer might be valid for only 5 days. You'll see in the data set that informational offers have a validity period even though these ads are merely providing information about a product; for example, if an informational offer has 7 days of validity, you can assume the customer is feeling the influence of the offer for 7 days after receiving the advertisement.\n",
    "\n",
    "You'll be given transactional data showing user purchases made on the app including the timestamp of purchase and the amount of money spent on a purchase. This transactional data also has a record for each offer that a user receives as well as a record for when a user actually views the offer. There are also records for when a user completes an offer. \n",
    "\n",
    "Keep in mind as well that someone using the app might make a purchase through the app without having received an offer or seen an offer.\n",
    "\n",
    "### Example\n",
    "\n",
    "To give an example, a user could receive a discount offer buy 10 dollars get 2 off on Monday. The offer is valid for 10 days from receipt. If the customer accumulates at least 10 dollars in purchases during the validity period, the customer completes the offer.\n",
    "\n",
    "However, there are a few things to watch out for in this data set. Customers do not opt into the offers that they receive; in other words, a user can receive an offer, never actually view the offer, and still complete the offer. For example, a user might receive the \"buy 10 dollars get 2 dollars off offer\", but the user never opens the offer during the 10 day validity period. The customer spends 15 dollars during those ten days. There will be an offer completion record in the data set; however, the customer was not influenced by the offer because the customer never viewed the offer.\n",
    "\n",
    "### Cleaning\n",
    "\n",
    "This makes data cleaning especially important and tricky.\n",
    "\n",
    "You'll also want to take into account that some demographic groups will make purchases even if they don't receive an offer. From a business perspective, if a customer is going to make a 10 dollar purchase without an offer anyway, you wouldn't want to send a buy 10 dollars get 2 dollars off offer. You'll want to try to assess what a certain demographic group will buy when not receiving any offers.\n",
    "\n",
    "### Final Advice\n",
    "\n",
    "Because this is a capstone project, you are free to analyze the data any way you see fit. For example, you could build a machine learning model that predicts how much someone will spend based on demographics and offer type. Or you could build a model that predicts whether or not someone will respond to an offer. Or, you don't need to build a machine learning model at all. You could develop a set of heuristics that determine what offer you should send to each customer (i.e., 75 percent of women customers who were 35 years old responded to offer A vs 40 percent from the same demographic to offer B, so send offer A)."
   ]
  },
  {
   "cell_type": "markdown",
   "metadata": {},
   "source": [
    "# Data Sets\n",
    "\n",
    "The data is contained in three files:\n",
    "\n",
    "* portfolio.json - containing offer ids and meta data about each offer (duration, type, etc.)\n",
    "* profile.json - demographic data for each customer\n",
    "* transcript.json - records for transactions, offers received, offers viewed, and offers completed\n",
    "\n",
    "Here is the schema and explanation of each variable in the files:\n",
    "\n",
    "**portfolio.json**\n",
    "* id (string) - offer id\n",
    "* offer_type (string) - type of offer ie BOGO, discount, informational\n",
    "* difficulty (int) - minimum required spend to complete an offer\n",
    "* reward (int) - reward given for completing an offer\n",
    "* duration (int) - time for offer to be open, in days\n",
    "* channels (list of strings)\n",
    "\n",
    "**profile.json**\n",
    "* age (int) - age of the customer \n",
    "* became_member_on (int) - date when customer created an app account\n",
    "* gender (str) - gender of the customer (note some entries contain 'O' for other rather than M or F)\n",
    "* id (str) - customer id\n",
    "* income (float) - customer's income\n",
    "\n",
    "**transcript.json**\n",
    "* event (str) - record description (ie transaction, offer received, offer viewed, etc.)\n",
    "* person (str) - customer id\n",
    "* time (int) - time in hours since start of test. The data begins at time t=0\n",
    "* value - (dict of strings) - either an offer id or transaction amount depending on the record\n",
    "\n",
    "**Note:** If you are using the workspace, you will need to go to the terminal and run the command `conda update pandas` before reading in the files. This is because the version of pandas in the workspace cannot read in the transcript.json file correctly, but the newest version of pandas can. You can access the termnal from the orange icon in the top left of this notebook.  \n",
    "\n",
    "You can see how to access the terminal and how the install works using the two images below.  First you need to access the terminal:\n",
    "\n",
    "<img src=\"pic1.png\"/>\n",
    "\n",
    "Then you will want to run the above command:\n",
    "\n",
    "<img src=\"pic2.png\"/>\n",
    "\n",
    "Finally, when you enter back into the notebook (use the jupyter icon again), you should be able to run the below cell without any errors."
   ]
  },
  {
   "cell_type": "code",
   "execution_count": 2,
   "metadata": {},
   "outputs": [],
   "source": [
    "# import necessary libraries and packages\n",
    "import pandas as pd\n",
    "import numpy as np\n",
    "import math\n",
    "import json\n",
    "from matplotlib import pyplot as plt\n",
    "import seaborn as sns\n",
    "from tqdm import tqdm\n",
    "import time as time\n",
    "from time import sleep\n",
    "pd.options.display.max_columns=30"
   ]
  },
  {
   "cell_type": "markdown",
   "metadata": {},
   "source": [
    "## I. Business Understanding\n",
    "\n",
    "### Project Goals\n",
    "In this project, I will answer the following questions:\n",
    "1. Which age groups, genders, and income groups are most likely to complete each offer?\n",
    "2. Under which offer type (BOGO, DISCOUNT, INFORMATIONAL) do customers spend the most?\n",
    "3. Does sending more offers increase the liklihood of an offer being completed?\n",
    "\n",
    "Lastly, I will create a model that will predict the amount spent after receiving an offer\n",
    "4. Create a machine learning model that will predict how much a user with certain demographics will spend after receiving a given offer_type.\n"
   ]
  },
  {
   "cell_type": "code",
   "execution_count": null,
   "metadata": {},
   "outputs": [],
   "source": []
  },
  {
   "cell_type": "markdown",
   "metadata": {},
   "source": [
    "## II. Data Understanding\n",
    "\n",
    "In this step, I will explore the value counts and distributions of the variables in each of the tables"
   ]
  },
  {
   "cell_type": "code",
   "execution_count": 3,
   "metadata": {},
   "outputs": [],
   "source": [
    "plt.style.use('fivethirtyeight')"
   ]
  },
  {
   "cell_type": "code",
   "execution_count": 4,
   "metadata": {},
   "outputs": [],
   "source": [
    "# read in the json files\n",
    "portfolio = pd.read_json('data/portfolio.json', orient='records', lines=True)\n",
    "profile = pd.read_json('data/profile.json', orient='records', lines=True)\n",
    "transcript = pd.read_json('data/transcript.json', orient='records', lines=True)"
   ]
  },
  {
   "cell_type": "code",
   "execution_count": 5,
   "metadata": {},
   "outputs": [
    {
     "data": {
      "text/html": [
       "<div>\n",
       "<style scoped>\n",
       "    .dataframe tbody tr th:only-of-type {\n",
       "        vertical-align: middle;\n",
       "    }\n",
       "\n",
       "    .dataframe tbody tr th {\n",
       "        vertical-align: top;\n",
       "    }\n",
       "\n",
       "    .dataframe thead th {\n",
       "        text-align: right;\n",
       "    }\n",
       "</style>\n",
       "<table border=\"1\" class=\"dataframe\">\n",
       "  <thead>\n",
       "    <tr style=\"text-align: right;\">\n",
       "      <th></th>\n",
       "      <th>reward</th>\n",
       "      <th>channels</th>\n",
       "      <th>difficulty</th>\n",
       "      <th>duration</th>\n",
       "      <th>offer_type</th>\n",
       "      <th>id</th>\n",
       "    </tr>\n",
       "  </thead>\n",
       "  <tbody>\n",
       "    <tr>\n",
       "      <td>0</td>\n",
       "      <td>10</td>\n",
       "      <td>[email, mobile, social]</td>\n",
       "      <td>10</td>\n",
       "      <td>7</td>\n",
       "      <td>bogo</td>\n",
       "      <td>ae264e3637204a6fb9bb56bc8210ddfd</td>\n",
       "    </tr>\n",
       "    <tr>\n",
       "      <td>1</td>\n",
       "      <td>10</td>\n",
       "      <td>[web, email, mobile, social]</td>\n",
       "      <td>10</td>\n",
       "      <td>5</td>\n",
       "      <td>bogo</td>\n",
       "      <td>4d5c57ea9a6940dd891ad53e9dbe8da0</td>\n",
       "    </tr>\n",
       "    <tr>\n",
       "      <td>2</td>\n",
       "      <td>0</td>\n",
       "      <td>[web, email, mobile]</td>\n",
       "      <td>0</td>\n",
       "      <td>4</td>\n",
       "      <td>informational</td>\n",
       "      <td>3f207df678b143eea3cee63160fa8bed</td>\n",
       "    </tr>\n",
       "    <tr>\n",
       "      <td>3</td>\n",
       "      <td>5</td>\n",
       "      <td>[web, email, mobile]</td>\n",
       "      <td>5</td>\n",
       "      <td>7</td>\n",
       "      <td>bogo</td>\n",
       "      <td>9b98b8c7a33c4b65b9aebfe6a799e6d9</td>\n",
       "    </tr>\n",
       "    <tr>\n",
       "      <td>4</td>\n",
       "      <td>5</td>\n",
       "      <td>[web, email]</td>\n",
       "      <td>20</td>\n",
       "      <td>10</td>\n",
       "      <td>discount</td>\n",
       "      <td>0b1e1539f2cc45b7b9fa7c272da2e1d7</td>\n",
       "    </tr>\n",
       "  </tbody>\n",
       "</table>\n",
       "</div>"
      ],
      "text/plain": [
       "   reward                      channels  difficulty  duration     offer_type  \\\n",
       "0      10       [email, mobile, social]          10         7           bogo   \n",
       "1      10  [web, email, mobile, social]          10         5           bogo   \n",
       "2       0          [web, email, mobile]           0         4  informational   \n",
       "3       5          [web, email, mobile]           5         7           bogo   \n",
       "4       5                  [web, email]          20        10       discount   \n",
       "\n",
       "                                 id  \n",
       "0  ae264e3637204a6fb9bb56bc8210ddfd  \n",
       "1  4d5c57ea9a6940dd891ad53e9dbe8da0  \n",
       "2  3f207df678b143eea3cee63160fa8bed  \n",
       "3  9b98b8c7a33c4b65b9aebfe6a799e6d9  \n",
       "4  0b1e1539f2cc45b7b9fa7c272da2e1d7  "
      ]
     },
     "execution_count": 5,
     "metadata": {},
     "output_type": "execute_result"
    }
   ],
   "source": [
    "portfolio.head()"
   ]
  },
  {
   "cell_type": "code",
   "execution_count": 6,
   "metadata": {},
   "outputs": [
    {
     "data": {
      "text/html": [
       "<div>\n",
       "<style scoped>\n",
       "    .dataframe tbody tr th:only-of-type {\n",
       "        vertical-align: middle;\n",
       "    }\n",
       "\n",
       "    .dataframe tbody tr th {\n",
       "        vertical-align: top;\n",
       "    }\n",
       "\n",
       "    .dataframe thead th {\n",
       "        text-align: right;\n",
       "    }\n",
       "</style>\n",
       "<table border=\"1\" class=\"dataframe\">\n",
       "  <thead>\n",
       "    <tr style=\"text-align: right;\">\n",
       "      <th></th>\n",
       "      <th>gender</th>\n",
       "      <th>age</th>\n",
       "      <th>id</th>\n",
       "      <th>became_member_on</th>\n",
       "      <th>income</th>\n",
       "    </tr>\n",
       "  </thead>\n",
       "  <tbody>\n",
       "    <tr>\n",
       "      <td>0</td>\n",
       "      <td>None</td>\n",
       "      <td>118</td>\n",
       "      <td>68be06ca386d4c31939f3a4f0e3dd783</td>\n",
       "      <td>20170212</td>\n",
       "      <td>NaN</td>\n",
       "    </tr>\n",
       "    <tr>\n",
       "      <td>1</td>\n",
       "      <td>F</td>\n",
       "      <td>55</td>\n",
       "      <td>0610b486422d4921ae7d2bf64640c50b</td>\n",
       "      <td>20170715</td>\n",
       "      <td>112000.0</td>\n",
       "    </tr>\n",
       "    <tr>\n",
       "      <td>2</td>\n",
       "      <td>None</td>\n",
       "      <td>118</td>\n",
       "      <td>38fe809add3b4fcf9315a9694bb96ff5</td>\n",
       "      <td>20180712</td>\n",
       "      <td>NaN</td>\n",
       "    </tr>\n",
       "    <tr>\n",
       "      <td>3</td>\n",
       "      <td>F</td>\n",
       "      <td>75</td>\n",
       "      <td>78afa995795e4d85b5d9ceeca43f5fef</td>\n",
       "      <td>20170509</td>\n",
       "      <td>100000.0</td>\n",
       "    </tr>\n",
       "    <tr>\n",
       "      <td>4</td>\n",
       "      <td>None</td>\n",
       "      <td>118</td>\n",
       "      <td>a03223e636434f42ac4c3df47e8bac43</td>\n",
       "      <td>20170804</td>\n",
       "      <td>NaN</td>\n",
       "    </tr>\n",
       "  </tbody>\n",
       "</table>\n",
       "</div>"
      ],
      "text/plain": [
       "  gender  age                                id  became_member_on    income\n",
       "0   None  118  68be06ca386d4c31939f3a4f0e3dd783          20170212       NaN\n",
       "1      F   55  0610b486422d4921ae7d2bf64640c50b          20170715  112000.0\n",
       "2   None  118  38fe809add3b4fcf9315a9694bb96ff5          20180712       NaN\n",
       "3      F   75  78afa995795e4d85b5d9ceeca43f5fef          20170509  100000.0\n",
       "4   None  118  a03223e636434f42ac4c3df47e8bac43          20170804       NaN"
      ]
     },
     "execution_count": 6,
     "metadata": {},
     "output_type": "execute_result"
    }
   ],
   "source": [
    "profile.head()"
   ]
  },
  {
   "cell_type": "code",
   "execution_count": 7,
   "metadata": {},
   "outputs": [
    {
     "data": {
      "text/html": [
       "<div>\n",
       "<style scoped>\n",
       "    .dataframe tbody tr th:only-of-type {\n",
       "        vertical-align: middle;\n",
       "    }\n",
       "\n",
       "    .dataframe tbody tr th {\n",
       "        vertical-align: top;\n",
       "    }\n",
       "\n",
       "    .dataframe thead th {\n",
       "        text-align: right;\n",
       "    }\n",
       "</style>\n",
       "<table border=\"1\" class=\"dataframe\">\n",
       "  <thead>\n",
       "    <tr style=\"text-align: right;\">\n",
       "      <th></th>\n",
       "      <th>person</th>\n",
       "      <th>event</th>\n",
       "      <th>value</th>\n",
       "      <th>time</th>\n",
       "    </tr>\n",
       "  </thead>\n",
       "  <tbody>\n",
       "    <tr>\n",
       "      <td>0</td>\n",
       "      <td>78afa995795e4d85b5d9ceeca43f5fef</td>\n",
       "      <td>offer received</td>\n",
       "      <td>{'offer id': '9b98b8c7a33c4b65b9aebfe6a799e6d9'}</td>\n",
       "      <td>0</td>\n",
       "    </tr>\n",
       "    <tr>\n",
       "      <td>1</td>\n",
       "      <td>a03223e636434f42ac4c3df47e8bac43</td>\n",
       "      <td>offer received</td>\n",
       "      <td>{'offer id': '0b1e1539f2cc45b7b9fa7c272da2e1d7'}</td>\n",
       "      <td>0</td>\n",
       "    </tr>\n",
       "    <tr>\n",
       "      <td>2</td>\n",
       "      <td>e2127556f4f64592b11af22de27a7932</td>\n",
       "      <td>offer received</td>\n",
       "      <td>{'offer id': '2906b810c7d4411798c6938adc9daaa5'}</td>\n",
       "      <td>0</td>\n",
       "    </tr>\n",
       "    <tr>\n",
       "      <td>3</td>\n",
       "      <td>8ec6ce2a7e7949b1bf142def7d0e0586</td>\n",
       "      <td>offer received</td>\n",
       "      <td>{'offer id': 'fafdcd668e3743c1bb461111dcafc2a4'}</td>\n",
       "      <td>0</td>\n",
       "    </tr>\n",
       "    <tr>\n",
       "      <td>4</td>\n",
       "      <td>68617ca6246f4fbc85e91a2a49552598</td>\n",
       "      <td>offer received</td>\n",
       "      <td>{'offer id': '4d5c57ea9a6940dd891ad53e9dbe8da0'}</td>\n",
       "      <td>0</td>\n",
       "    </tr>\n",
       "  </tbody>\n",
       "</table>\n",
       "</div>"
      ],
      "text/plain": [
       "                             person           event  \\\n",
       "0  78afa995795e4d85b5d9ceeca43f5fef  offer received   \n",
       "1  a03223e636434f42ac4c3df47e8bac43  offer received   \n",
       "2  e2127556f4f64592b11af22de27a7932  offer received   \n",
       "3  8ec6ce2a7e7949b1bf142def7d0e0586  offer received   \n",
       "4  68617ca6246f4fbc85e91a2a49552598  offer received   \n",
       "\n",
       "                                              value  time  \n",
       "0  {'offer id': '9b98b8c7a33c4b65b9aebfe6a799e6d9'}     0  \n",
       "1  {'offer id': '0b1e1539f2cc45b7b9fa7c272da2e1d7'}     0  \n",
       "2  {'offer id': '2906b810c7d4411798c6938adc9daaa5'}     0  \n",
       "3  {'offer id': 'fafdcd668e3743c1bb461111dcafc2a4'}     0  \n",
       "4  {'offer id': '4d5c57ea9a6940dd891ad53e9dbe8da0'}     0  "
      ]
     },
     "execution_count": 7,
     "metadata": {},
     "output_type": "execute_result"
    }
   ],
   "source": [
    "transcript.head()"
   ]
  },
  {
   "cell_type": "code",
   "execution_count": 8,
   "metadata": {},
   "outputs": [
    {
     "name": "stdout",
     "output_type": "stream",
     "text": [
      "portfolio shape:  (10, 6) \n",
      "profile shape:  (17000, 5) \n",
      "transcript shape:  (306534, 4)\n"
     ]
    }
   ],
   "source": [
    "# view shape of datasets\n",
    "print('portfolio shape: ', portfolio.shape,\n",
    "      '\\nprofile shape: ', profile.shape, \n",
    "      '\\ntranscript shape: ', transcript.shape)"
   ]
  },
  {
   "cell_type": "markdown",
   "metadata": {},
   "source": [
    "### Portfolio DataFrame Understanding"
   ]
  },
  {
   "cell_type": "code",
   "execution_count": 9,
   "metadata": {},
   "outputs": [
    {
     "name": "stdout",
     "output_type": "stream",
     "text": [
      "portfolio_null_values:\n",
      " reward        0\n",
      "channels      0\n",
      "difficulty    0\n",
      "duration      0\n",
      "offer_type    0\n",
      "id            0\n",
      "dtype: int64\n"
     ]
    }
   ],
   "source": [
    "print('portfolio_null_values:\\n', portfolio.isnull().sum())"
   ]
  },
  {
   "cell_type": "code",
   "execution_count": 10,
   "metadata": {},
   "outputs": [
    {
     "data": {
      "image/png": "[encoded data removed]",
      "text/plain": [
       "<Figure size 432x288 with 1 Axes>"
      ]
     },
     "metadata": {},
     "output_type": "display_data"
    },
    {
     "data": {
      "image/png": "[encoded data removed]",
      "text/plain": [
       "<Figure size 432x288 with 1 Axes>"
      ]
     },
     "metadata": {},
     "output_type": "display_data"
    },
    {
     "data": {
      "image/png": "[encoded data removed]",
      "text/plain": [
       "<Figure size 432x288 with 1 Axes>"
      ]
     },
     "metadata": {},
     "output_type": "display_data"
    },
    {
     "data": {
      "image/png": "[encoded data removed]",
      "text/plain": [
       "<Figure size 432x288 with 1 Axes>"
      ]
     },
     "metadata": {},
     "output_type": "display_data"
    }
   ],
   "source": [
    "# How many of each offer type do we have? \n",
    "\n",
    "cols = ['offer_type', 'difficulty', 'reward', 'duration']\n",
    "\n",
    "for col in cols:\n",
    "    portfolio[col].value_counts().sort_index().plot.bar(title=col + \" value counts:\")\n",
    "    plt.xlabel(col)\n",
    "    plt.xticks(rotation=0)\n",
    "    plt.ylabel('number of offers')\n",
    "    plt.show()\n"
   ]
  },
  {
   "cell_type": "markdown",
   "metadata": {},
   "source": [
    "### Profile DataFrame Understanding"
   ]
  },
  {
   "cell_type": "code",
   "execution_count": 11,
   "metadata": {},
   "outputs": [
    {
     "data": {
      "text/html": [
       "<div>\n",
       "<style scoped>\n",
       "    .dataframe tbody tr th:only-of-type {\n",
       "        vertical-align: middle;\n",
       "    }\n",
       "\n",
       "    .dataframe tbody tr th {\n",
       "        vertical-align: top;\n",
       "    }\n",
       "\n",
       "    .dataframe thead th {\n",
       "        text-align: right;\n",
       "    }\n",
       "</style>\n",
       "<table border=\"1\" class=\"dataframe\">\n",
       "  <thead>\n",
       "    <tr style=\"text-align: right;\">\n",
       "      <th></th>\n",
       "      <th>age</th>\n",
       "      <th>became_member_on</th>\n",
       "      <th>income</th>\n",
       "    </tr>\n",
       "  </thead>\n",
       "  <tbody>\n",
       "    <tr>\n",
       "      <td>count</td>\n",
       "      <td>17000.000000</td>\n",
       "      <td>1.700000e+04</td>\n",
       "      <td>14825.000000</td>\n",
       "    </tr>\n",
       "    <tr>\n",
       "      <td>mean</td>\n",
       "      <td>62.531412</td>\n",
       "      <td>2.016703e+07</td>\n",
       "      <td>65404.991568</td>\n",
       "    </tr>\n",
       "    <tr>\n",
       "      <td>std</td>\n",
       "      <td>26.738580</td>\n",
       "      <td>1.167750e+04</td>\n",
       "      <td>21598.299410</td>\n",
       "    </tr>\n",
       "    <tr>\n",
       "      <td>min</td>\n",
       "      <td>18.000000</td>\n",
       "      <td>2.013073e+07</td>\n",
       "      <td>30000.000000</td>\n",
       "    </tr>\n",
       "    <tr>\n",
       "      <td>25%</td>\n",
       "      <td>45.000000</td>\n",
       "      <td>2.016053e+07</td>\n",
       "      <td>49000.000000</td>\n",
       "    </tr>\n",
       "    <tr>\n",
       "      <td>50%</td>\n",
       "      <td>58.000000</td>\n",
       "      <td>2.017080e+07</td>\n",
       "      <td>64000.000000</td>\n",
       "    </tr>\n",
       "    <tr>\n",
       "      <td>75%</td>\n",
       "      <td>73.000000</td>\n",
       "      <td>2.017123e+07</td>\n",
       "      <td>80000.000000</td>\n",
       "    </tr>\n",
       "    <tr>\n",
       "      <td>max</td>\n",
       "      <td>118.000000</td>\n",
       "      <td>2.018073e+07</td>\n",
       "      <td>120000.000000</td>\n",
       "    </tr>\n",
       "  </tbody>\n",
       "</table>\n",
       "</div>"
      ],
      "text/plain": [
       "                age  became_member_on         income\n",
       "count  17000.000000      1.700000e+04   14825.000000\n",
       "mean      62.531412      2.016703e+07   65404.991568\n",
       "std       26.738580      1.167750e+04   21598.299410\n",
       "min       18.000000      2.013073e+07   30000.000000\n",
       "25%       45.000000      2.016053e+07   49000.000000\n",
       "50%       58.000000      2.017080e+07   64000.000000\n",
       "75%       73.000000      2.017123e+07   80000.000000\n",
       "max      118.000000      2.018073e+07  120000.000000"
      ]
     },
     "execution_count": 11,
     "metadata": {},
     "output_type": "execute_result"
    }
   ],
   "source": [
    "profile.describe()"
   ]
  },
  {
   "cell_type": "code",
   "execution_count": 12,
   "metadata": {},
   "outputs": [
    {
     "name": "stdout",
     "output_type": "stream",
     "text": [
      "profile_null_values:\n",
      " gender              2175\n",
      "age                    0\n",
      "id                     0\n",
      "became_member_on       0\n",
      "income              2175\n",
      "dtype: int64\n"
     ]
    }
   ],
   "source": [
    "print('profile_null_values:\\n', profile.isnull().sum())"
   ]
  },
  {
   "cell_type": "code",
   "execution_count": 13,
   "metadata": {},
   "outputs": [
    {
     "data": {
      "text/plain": [
       "True"
      ]
     },
     "execution_count": 13,
     "metadata": {},
     "output_type": "execute_result"
    }
   ],
   "source": [
    "age_118_idx = profile[profile['age'] == 118].index\n",
    "\n",
    "gender_null_idx = profile[profile['gender'].isnull()].index\n",
    "\n",
    "income_null_idx = profile[profile['income'].isnull()].index\n",
    "\n",
    "set(age_118_idx) == set(gender_null_idx) == set(income_null_idx)"
   ]
  },
  {
   "cell_type": "markdown",
   "metadata": {},
   "source": [
    "As I expected, the customers with null values in income nad gender also have an age of 118, which indicates that 118 was likely a placeholder to mean \"unknown.\""
   ]
  },
  {
   "cell_type": "markdown",
   "metadata": {},
   "source": [
    "### Let's see how the demographic variables are distributed"
   ]
  },
  {
   "cell_type": "code",
   "execution_count": 14,
   "metadata": {},
   "outputs": [
    {
     "data": {
      "text/plain": [
       "<matplotlib.axes._subplots.AxesSubplot at 0x7f87103ced90>"
      ]
     },
     "execution_count": 14,
     "metadata": {},
     "output_type": "execute_result"
    },
    {
     "data": {
      "image/png": "[encoded data removed]",
      "text/plain": [
       "<Figure size 720x432 with 1 Axes>"
      ]
     },
     "metadata": {},
     "output_type": "display_data"
    }
   ],
   "source": [
    "profile['gender'].value_counts(dropna=False, normalize=True).sort_index().plot.bar(figsize=(10,6))"
   ]
  },
  {
   "cell_type": "code",
   "execution_count": 15,
   "metadata": {},
   "outputs": [],
   "source": [
    "def plot_hist(df, col, bin_size, x_range):\n",
    "    \"\"\"plots a histogram for a given column\n",
    "    INPUTS\n",
    "    df: df\n",
    "    col (str): column in df\n",
    "    bins (int): number of bins\n",
    "    x_range (tup): range of x_values\n",
    "    OUTPUTS\n",
    "    histogram\n",
    "    \"\"\"\n",
    "    rge = x_range[1] - x_range[0]\n",
    "    bins = int(rge/bin_size)\n",
    "    profile[col].plot.hist(figsize=(10,6), bins=bins, range=x_range, alpha=0.8)\n",
    "    plt.xticks(ticks=np.arange(x_range[0], x_range[1]+1, bin_size))\n",
    "    plt.xlabel(col)\n",
    "    plt.title(col.title() + ' Histogram')\n",
    "    plt.show()\n",
    "    "
   ]
  },
  {
   "cell_type": "code",
   "execution_count": 16,
   "metadata": {},
   "outputs": [
    {
     "data": {
      "image/png": "[encoded data removed]",
      "text/plain": [
       "<Figure size 720x432 with 1 Axes>"
      ]
     },
     "metadata": {},
     "output_type": "display_data"
    }
   ],
   "source": [
    "plot_hist(df=profile, col='age', bin_size=6, x_range=(18,120))"
   ]
  },
  {
   "cell_type": "code",
   "execution_count": 17,
   "metadata": {},
   "outputs": [
    {
     "data": {
      "image/png": "[encoded data removed]",
      "text/plain": [
       "<Figure size 720x432 with 1 Axes>"
      ]
     },
     "metadata": {},
     "output_type": "display_data"
    }
   ],
   "source": [
    "plot_hist(df=profile, col='income', bin_size=10000, x_range=(30000, 120000))"
   ]
  },
  {
   "cell_type": "code",
   "execution_count": 18,
   "metadata": {},
   "outputs": [
    {
     "data": {
      "text/plain": [
       "<matplotlib.legend.Legend at 0x7f871020b710>"
      ]
     },
     "execution_count": 18,
     "metadata": {},
     "output_type": "execute_result"
    },
    {
     "data": {
      "image/png": "[encoded data removed]",
      "text/plain": [
       "<Figure size 720x432 with 1 Axes>"
      ]
     },
     "metadata": {},
     "output_type": "display_data"
    }
   ],
   "source": [
    "fig, ax = plt.subplots(figsize=(10,6))\n",
    "\n",
    "bins = 9\n",
    "\n",
    "men = profile.loc[profile['gender'] == 'M', 'income']\n",
    "women = profile.loc[profile['gender'] == 'F', 'income']\n",
    "other = profile.loc[profile['gender'] == 'O', 'income']\n",
    "\n",
    "ax.hist(men, bins=9, range=(30000,120000), alpha=0.5, label='men')\n",
    "ax.hist(women, bins=9, range=(30000,120000), alpha=0.5, label='women')\n",
    "ax.hist(other, bins=9, range=(30000,120000), alpha=0.5, label='other')\n",
    "ax.set_title('Income by Gender Histogram')\n",
    "plt.legend()"
   ]
  },
  {
   "cell_type": "code",
   "execution_count": 19,
   "metadata": {},
   "outputs": [
    {
     "data": {
      "text/plain": [
       "gender\n",
       "F    71000.0\n",
       "M    59000.0\n",
       "O    62000.0\n",
       "Name: income, dtype: float64"
      ]
     },
     "execution_count": 19,
     "metadata": {},
     "output_type": "execute_result"
    }
   ],
   "source": [
    "profile.groupby('gender')['income'].median()"
   ]
  },
  {
   "cell_type": "code",
   "execution_count": 20,
   "metadata": {},
   "outputs": [
    {
     "data": {
      "text/plain": [
       "<matplotlib.legend.Legend at 0x7f8710310fd0>"
      ]
     },
     "execution_count": 20,
     "metadata": {},
     "output_type": "execute_result"
    },
    {
     "data": {
      "image/png": "[encoded data removed]",
      "text/plain": [
       "<Figure size 720x432 with 1 Axes>"
      ]
     },
     "metadata": {},
     "output_type": "display_data"
    }
   ],
   "source": [
    "fig, ax = plt.subplots(figsize=(10,6))\n",
    "\n",
    "bins=17\n",
    "\n",
    "men = profile.loc[profile['gender'] == 'M', 'age']\n",
    "women = profile.loc[profile['gender'] == 'F', 'age']\n",
    "other = profile.loc[profile['gender'] == 'O', 'age']\n",
    "\n",
    "ax.hist(men, bins=bins, range=(18,118), alpha=0.5, label='men')\n",
    "ax.hist(women, bins=bins, range=(18,118), alpha=0.5, label='women')\n",
    "ax.hist(other, bins=bins, range=(18,118), alpha=0.5, label='other')\n",
    "ax.set_title('Age by Gender Histogram')\n",
    "plt.legend()"
   ]
  },
  {
   "cell_type": "code",
   "execution_count": 21,
   "metadata": {},
   "outputs": [
    {
     "data": {
      "text/plain": [
       "gender\n",
       "F    58\n",
       "M    53\n",
       "O    55\n",
       "Name: age, dtype: int64"
      ]
     },
     "execution_count": 21,
     "metadata": {},
     "output_type": "execute_result"
    }
   ],
   "source": [
    "profile.groupby('gender')['age'].median()"
   ]
  },
  {
   "cell_type": "code",
   "execution_count": 22,
   "metadata": {},
   "outputs": [
    {
     "name": "stdout",
     "output_type": "stream",
     "text": [
      "381.06137430915595 44677.72038712176\n"
     ]
    },
    {
     "data": {
      "text/plain": [
       "[<matplotlib.axis.XTick at 0x7f871012aa90>,\n",
       " <matplotlib.axis.XTick at 0x7f8710141990>,\n",
       " <matplotlib.axis.XTick at 0x7f871012a590>,\n",
       " <matplotlib.axis.XTick at 0x7f8710160110>,\n",
       " <matplotlib.axis.XTick at 0x7f87101608d0>,\n",
       " <matplotlib.axis.XTick at 0x7f87101661d0>,\n",
       " <matplotlib.axis.XTick at 0x7f8710166b90>,\n",
       " <matplotlib.axis.XTick at 0x7f8710124450>,\n",
       " <matplotlib.axis.XTick at 0x7f8710124d10>]"
      ]
     },
     "execution_count": 22,
     "metadata": {},
     "output_type": "execute_result"
    },
    {
     "data": {
      "image/png": "[encoded data removed]",
      "text/plain": [
       "<Figure size 720x432 with 1 Axes>"
      ]
     },
     "metadata": {},
     "output_type": "display_data"
    }
   ],
   "source": [
    "fig, ax = plt.subplots(figsize=(10,6))\n",
    "\n",
    "data=profile.dropna()\n",
    "\n",
    "X = data['age']\n",
    "Y = data['income']\n",
    "m, b = np.polyfit(X, Y, 1)\n",
    "print(m, b)\n",
    "\n",
    "ax.scatter(x=X, y=Y)\n",
    "ax.plot(X, m*X+b, c='red')\n",
    "ax.set_title('Customer Age vs Income')\n",
    "ax.set_xlabel('Age')\n",
    "ax.set_ylabel('Income')\n",
    "ax.set_xticks(np.arange(20, 101, 10))"
   ]
  },
  {
   "cell_type": "code",
   "execution_count": 23,
   "metadata": {},
   "outputs": [
    {
     "data": {
      "text/plain": [
       "person    0\n",
       "event     0\n",
       "value     0\n",
       "time      0\n",
       "dtype: int64"
      ]
     },
     "execution_count": 23,
     "metadata": {},
     "output_type": "execute_result"
    }
   ],
   "source": [
    "transcript.isnull().sum()"
   ]
  },
  {
   "cell_type": "code",
   "execution_count": 24,
   "metadata": {},
   "outputs": [
    {
     "data": {
      "text/plain": [
       "(306534, 4)"
      ]
     },
     "execution_count": 24,
     "metadata": {},
     "output_type": "execute_result"
    }
   ],
   "source": [
    "transcript.shape"
   ]
  },
  {
   "cell_type": "code",
   "execution_count": 25,
   "metadata": {},
   "outputs": [
    {
     "data": {
      "text/plain": [
       "Text(0.5, 1.0, 'Event Types')"
      ]
     },
     "execution_count": 25,
     "metadata": {},
     "output_type": "execute_result"
    },
    {
     "data": {
      "image/png": "[encoded data removed]",
      "text/plain": [
       "<Figure size 720x432 with 1 Axes>"
      ]
     },
     "metadata": {},
     "output_type": "display_data"
    }
   ],
   "source": [
    "transcript['event'].value_counts(normalize=True).plot.pie(figsize=(10,6), autopct='%1.1f%%')\n",
    "plt.ylabel('')\n",
    "plt.title('Event Types')"
   ]
  },
  {
   "cell_type": "code",
   "execution_count": 26,
   "metadata": {},
   "outputs": [
    {
     "data": {
      "text/html": [
       "<div>\n",
       "<style scoped>\n",
       "    .dataframe tbody tr th:only-of-type {\n",
       "        vertical-align: middle;\n",
       "    }\n",
       "\n",
       "    .dataframe tbody tr th {\n",
       "        vertical-align: top;\n",
       "    }\n",
       "\n",
       "    .dataframe thead th {\n",
       "        text-align: right;\n",
       "    }\n",
       "</style>\n",
       "<table border=\"1\" class=\"dataframe\">\n",
       "  <thead>\n",
       "    <tr style=\"text-align: right;\">\n",
       "      <th></th>\n",
       "      <th>person</th>\n",
       "      <th>event</th>\n",
       "      <th>value</th>\n",
       "      <th>time</th>\n",
       "    </tr>\n",
       "  </thead>\n",
       "  <tbody>\n",
       "    <tr>\n",
       "      <td>0</td>\n",
       "      <td>78afa995795e4d85b5d9ceeca43f5fef</td>\n",
       "      <td>offer received</td>\n",
       "      <td>{'offer id': '9b98b8c7a33c4b65b9aebfe6a799e6d9'}</td>\n",
       "      <td>0</td>\n",
       "    </tr>\n",
       "    <tr>\n",
       "      <td>1</td>\n",
       "      <td>a03223e636434f42ac4c3df47e8bac43</td>\n",
       "      <td>offer received</td>\n",
       "      <td>{'offer id': '0b1e1539f2cc45b7b9fa7c272da2e1d7'}</td>\n",
       "      <td>0</td>\n",
       "    </tr>\n",
       "    <tr>\n",
       "      <td>2</td>\n",
       "      <td>e2127556f4f64592b11af22de27a7932</td>\n",
       "      <td>offer received</td>\n",
       "      <td>{'offer id': '2906b810c7d4411798c6938adc9daaa5'}</td>\n",
       "      <td>0</td>\n",
       "    </tr>\n",
       "    <tr>\n",
       "      <td>3</td>\n",
       "      <td>8ec6ce2a7e7949b1bf142def7d0e0586</td>\n",
       "      <td>offer received</td>\n",
       "      <td>{'offer id': 'fafdcd668e3743c1bb461111dcafc2a4'}</td>\n",
       "      <td>0</td>\n",
       "    </tr>\n",
       "    <tr>\n",
       "      <td>4</td>\n",
       "      <td>68617ca6246f4fbc85e91a2a49552598</td>\n",
       "      <td>offer received</td>\n",
       "      <td>{'offer id': '4d5c57ea9a6940dd891ad53e9dbe8da0'}</td>\n",
       "      <td>0</td>\n",
       "    </tr>\n",
       "    <tr>\n",
       "      <td>...</td>\n",
       "      <td>...</td>\n",
       "      <td>...</td>\n",
       "      <td>...</td>\n",
       "      <td>...</td>\n",
       "    </tr>\n",
       "    <tr>\n",
       "      <td>306529</td>\n",
       "      <td>b3a1272bc9904337b331bf348c3e8c17</td>\n",
       "      <td>transaction</td>\n",
       "      <td>{'amount': 1.5899999999999999}</td>\n",
       "      <td>714</td>\n",
       "    </tr>\n",
       "    <tr>\n",
       "      <td>306530</td>\n",
       "      <td>68213b08d99a4ae1b0dcb72aebd9aa35</td>\n",
       "      <td>transaction</td>\n",
       "      <td>{'amount': 9.53}</td>\n",
       "      <td>714</td>\n",
       "    </tr>\n",
       "    <tr>\n",
       "      <td>306531</td>\n",
       "      <td>a00058cf10334a308c68e7631c529907</td>\n",
       "      <td>transaction</td>\n",
       "      <td>{'amount': 3.61}</td>\n",
       "      <td>714</td>\n",
       "    </tr>\n",
       "    <tr>\n",
       "      <td>306532</td>\n",
       "      <td>76ddbd6576844afe811f1a3c0fbb5bec</td>\n",
       "      <td>transaction</td>\n",
       "      <td>{'amount': 3.5300000000000002}</td>\n",
       "      <td>714</td>\n",
       "    </tr>\n",
       "    <tr>\n",
       "      <td>306533</td>\n",
       "      <td>c02b10e8752c4d8e9b73f918558531f7</td>\n",
       "      <td>transaction</td>\n",
       "      <td>{'amount': 4.05}</td>\n",
       "      <td>714</td>\n",
       "    </tr>\n",
       "  </tbody>\n",
       "</table>\n",
       "<p>306534 rows × 4 columns</p>\n",
       "</div>"
      ],
      "text/plain": [
       "                                  person           event  \\\n",
       "0       78afa995795e4d85b5d9ceeca43f5fef  offer received   \n",
       "1       a03223e636434f42ac4c3df47e8bac43  offer received   \n",
       "2       e2127556f4f64592b11af22de27a7932  offer received   \n",
       "3       8ec6ce2a7e7949b1bf142def7d0e0586  offer received   \n",
       "4       68617ca6246f4fbc85e91a2a49552598  offer received   \n",
       "...                                  ...             ...   \n",
       "306529  b3a1272bc9904337b331bf348c3e8c17     transaction   \n",
       "306530  68213b08d99a4ae1b0dcb72aebd9aa35     transaction   \n",
       "306531  a00058cf10334a308c68e7631c529907     transaction   \n",
       "306532  76ddbd6576844afe811f1a3c0fbb5bec     transaction   \n",
       "306533  c02b10e8752c4d8e9b73f918558531f7     transaction   \n",
       "\n",
       "                                                   value  time  \n",
       "0       {'offer id': '9b98b8c7a33c4b65b9aebfe6a799e6d9'}     0  \n",
       "1       {'offer id': '0b1e1539f2cc45b7b9fa7c272da2e1d7'}     0  \n",
       "2       {'offer id': '2906b810c7d4411798c6938adc9daaa5'}     0  \n",
       "3       {'offer id': 'fafdcd668e3743c1bb461111dcafc2a4'}     0  \n",
       "4       {'offer id': '4d5c57ea9a6940dd891ad53e9dbe8da0'}     0  \n",
       "...                                                  ...   ...  \n",
       "306529                    {'amount': 1.5899999999999999}   714  \n",
       "306530                                  {'amount': 9.53}   714  \n",
       "306531                                  {'amount': 3.61}   714  \n",
       "306532                    {'amount': 3.5300000000000002}   714  \n",
       "306533                                  {'amount': 4.05}   714  \n",
       "\n",
       "[306534 rows x 4 columns]"
      ]
     },
     "execution_count": 26,
     "metadata": {},
     "output_type": "execute_result"
    }
   ],
   "source": [
    "transcript"
   ]
  },
  {
   "cell_type": "code",
   "execution_count": 27,
   "metadata": {},
   "outputs": [
    {
     "data": {
      "text/plain": [
       "17000"
      ]
     },
     "execution_count": 27,
     "metadata": {},
     "output_type": "execute_result"
    }
   ],
   "source": [
    "transcript['person'].nunique()"
   ]
  },
  {
   "cell_type": "markdown",
   "metadata": {},
   "source": [
    "### Data Understanding Summary\n",
    "\n",
    "#### Portfolio\n",
    "\n",
    "1. There are 10 different offers - 2 informational, 4 bogo, 4\n",
    "2. The offer difficulties range from \\\\$0 \\(for informational offers\\) to \\\\$20, the most common being \\\\$10.\n",
    "3. The offer rewards range from \\\\$0 \\(for informational offers to\\) \\\\$10, the most common being \\\\$5.\n",
    "4. The offer durations range from 3 days to 10 days, the most common being 7 days.\n",
    "\n",
    "#### Profile\n",
    "1. There are 170,000 customers\n",
    "2. There are 2,175 customers with null values in income and gender.\n",
    "3. Ages range from 18 to 118. However, it appears 118 is used as a place holder, most likely indicating \"unknown/not given\" as customers with that age also have null values for income and gender.\n",
    "4. The variable became_member_on is formated as an int, but should be converted to a datetime object for us to make use of it.\n",
    "5. Income ranges from 30k to 120k, with the median being 64k.\n",
    "6. The median income for female customers is \\\\$71k, \\\\$59k for male customers, and \\\\$62k for customers who marked Other.\n",
    "7. The median age for female customers is 58, for male customers 53, and 55 for customers who marked their gender as Other.\n",
    "8. Age and Income are positively correlated.\n",
    "9. There are no customers between 18 and 36 who make over \\\\$75k. There are no users under 48 who make more than 100k.\n",
    "\n",
    "#### Transcript\n",
    "1. There are 306,534 rows, with each row being one of four events: 'offer received', 'offer viewed', 'offer completed', or 'transaction'.\n",
    "2. 45.3% of the rows are transactions, 24.9% are offer received, 18.8% are offer viewed events, and 11% are offer completed.\n",
    "3. The value column is a dictionary that gives the offer_id for an \"offer received\", \"offer viewed\" or \"offer completed\" event, and a transaction amount if the event is a transaction. <br>We will want to clean this columnn in the next section.\n",
    "4. The times range from 0 to 714, and indicate the hour that the event occured in. The experiment ran for about 30 days. \n"
   ]
  },
  {
   "cell_type": "markdown",
   "metadata": {},
   "source": [
    "## III. Data Preparation\n",
    "\n",
    "In this section I will clean each of the tables so that I can answer my questions and prepare the data for my model.\n",
    "<br><br>**Portfolio DataFrame**\n",
    "\n",
    "1. Add a column \"readable_id\" which contains a unique id that is easier to read than the hash id.\n",
    "2. One-hot encode the channels column: 'email', 'mobile', 'social' or 'web'.\n",
    "3. One-hot encode the offer_type: \"bogo\", \"discount\", or \"informational\".\n",
    "\n",
    "<br>**Profile DataFrame**\n",
    "\n",
    "1. Convert \"became_member_on\" column to a datetime object.\n",
    "2. Extract the year a member joined and store in the column \"year_joined.\"\n",
    "3. Replace the customers with age 118 with NaNs and drop the rows with null values. I decieded to drop these rows because these customers were missing data from all three demographic variables,<br>\n",
    "and thus they wouldn't be helpful in answering my questions.\n",
    "4. Create the column \"age_group\" with the following age groups: 18-24, 25-34, 35-44, 45-54, 55-65, 65-74, 75+.\n",
    "5. Create the column \"income_group\" with the following income groups: 30-45k, 45-60k, 60-75k, 75-90k, 90-105k, 105-120k (ranges include the left endpoint and exclude the right endpoint).\n",
    "\n",
    "<br>**Transcript**\n",
    "1. Extract the offer id, amount, or reward from the dictioanry in the value column and store in its own column.\n",
    "2. Drop the original value column\n",
    "\n",
    "<br>**Create Mater DataFrame**\n",
    "1. Merge the profile and transaction datasets.\n",
    "2. Merge the resulting dataset with the profile dataset.\n",
    "3. Drop repeated columns and reorder for readability. "
   ]
  },
  {
   "cell_type": "code",
   "execution_count": null,
   "metadata": {},
   "outputs": [],
   "source": []
  },
  {
   "cell_type": "code",
   "execution_count": 28,
   "metadata": {},
   "outputs": [],
   "source": [
    "def clean_portfolio(df=portfolio):\n",
    "    # Create an ID column that is more readable than the id hash\n",
    "    df['readable_id'] = ['BOGO - $10 - 7days', 'BOGO - $10 - 5days', 'INFO - $0 - 4days', 'BOGO - $5 - 7days',\n",
    "                           'DISC - $20/\\$5 - 10days', 'DISC - $7/\\$3 - 7days', 'DISC - $10/\\$2 - 10days', 'INFO - $0 - 3days',\n",
    "                           'BOGO - $5 - 5days', 'DISC - \\$10/\\$2 - 7days']\n",
    "    \n",
    "    # Extract channels into their own columns one-hot encoded\n",
    "    df['email'] = df['channels'].apply(lambda x: 1 if 'email' in x else 0)\n",
    "    df['mobile'] = df['channels'].apply(lambda x: 1 if 'mobile' in x else 0)\n",
    "    df['social'] = df['channels'].apply(lambda x: 1 if 'social' in x else 0)\n",
    "    df['web'] = df['channels'].apply(lambda x: 1 if 'web' in x else 0)\n",
    "    \n",
    "  \n",
    "    # Drop unneeded columns\n",
    "    df.drop(columns=['channels'], inplace=True, errors='ignore')\n",
    "   \n",
    "    \n",
    "    # Turn offer_type into a dummy variable\n",
    "    df = pd.get_dummies(df, columns=['offer_type'], prefix='', prefix_sep='')\n",
    "    \n",
    "    # Rename dummy columns\n",
    "    df = df[['readable_id', 'id', 'difficulty', 'reward', 'duration', 'email', 'mobile', 'social', 'web', 'bogo', 'discount', 'informational']]\n",
    "    \n",
    "\n",
    "    return df\n",
    "\n",
    "clean_portfolio = clean_portfolio(df=portfolio)\n",
    "clean_portfolio.to_csv('clean_portfolio.csv', index=False)\n"
   ]
  },
  {
   "cell_type": "code",
   "execution_count": 29,
   "metadata": {},
   "outputs": [
    {
     "data": {
      "text/html": [
       "<div>\n",
       "<style scoped>\n",
       "    .dataframe tbody tr th:only-of-type {\n",
       "        vertical-align: middle;\n",
       "    }\n",
       "\n",
       "    .dataframe tbody tr th {\n",
       "        vertical-align: top;\n",
       "    }\n",
       "\n",
       "    .dataframe thead th {\n",
       "        text-align: right;\n",
       "    }\n",
       "</style>\n",
       "<table border=\"1\" class=\"dataframe\">\n",
       "  <thead>\n",
       "    <tr style=\"text-align: right;\">\n",
       "      <th></th>\n",
       "      <th>readable_id</th>\n",
       "      <th>id</th>\n",
       "      <th>difficulty</th>\n",
       "      <th>reward</th>\n",
       "      <th>duration</th>\n",
       "      <th>email</th>\n",
       "      <th>mobile</th>\n",
       "      <th>social</th>\n",
       "      <th>web</th>\n",
       "      <th>bogo</th>\n",
       "      <th>discount</th>\n",
       "      <th>informational</th>\n",
       "    </tr>\n",
       "  </thead>\n",
       "  <tbody>\n",
       "    <tr>\n",
       "      <td>0</td>\n",
       "      <td>BOGO - $10 - 7days</td>\n",
       "      <td>ae264e3637204a6fb9bb56bc8210ddfd</td>\n",
       "      <td>10</td>\n",
       "      <td>10</td>\n",
       "      <td>7</td>\n",
       "      <td>1</td>\n",
       "      <td>1</td>\n",
       "      <td>1</td>\n",
       "      <td>0</td>\n",
       "      <td>1</td>\n",
       "      <td>0</td>\n",
       "      <td>0</td>\n",
       "    </tr>\n",
       "    <tr>\n",
       "      <td>1</td>\n",
       "      <td>BOGO - $10 - 5days</td>\n",
       "      <td>4d5c57ea9a6940dd891ad53e9dbe8da0</td>\n",
       "      <td>10</td>\n",
       "      <td>10</td>\n",
       "      <td>5</td>\n",
       "      <td>1</td>\n",
       "      <td>1</td>\n",
       "      <td>1</td>\n",
       "      <td>1</td>\n",
       "      <td>1</td>\n",
       "      <td>0</td>\n",
       "      <td>0</td>\n",
       "    </tr>\n",
       "    <tr>\n",
       "      <td>2</td>\n",
       "      <td>INFO - $0 - 4days</td>\n",
       "      <td>3f207df678b143eea3cee63160fa8bed</td>\n",
       "      <td>0</td>\n",
       "      <td>0</td>\n",
       "      <td>4</td>\n",
       "      <td>1</td>\n",
       "      <td>1</td>\n",
       "      <td>0</td>\n",
       "      <td>1</td>\n",
       "      <td>0</td>\n",
       "      <td>0</td>\n",
       "      <td>1</td>\n",
       "    </tr>\n",
       "    <tr>\n",
       "      <td>3</td>\n",
       "      <td>BOGO - $5 - 7days</td>\n",
       "      <td>9b98b8c7a33c4b65b9aebfe6a799e6d9</td>\n",
       "      <td>5</td>\n",
       "      <td>5</td>\n",
       "      <td>7</td>\n",
       "      <td>1</td>\n",
       "      <td>1</td>\n",
       "      <td>0</td>\n",
       "      <td>1</td>\n",
       "      <td>1</td>\n",
       "      <td>0</td>\n",
       "      <td>0</td>\n",
       "    </tr>\n",
       "    <tr>\n",
       "      <td>4</td>\n",
       "      <td>DISC - $20/\\$5 - 10days</td>\n",
       "      <td>0b1e1539f2cc45b7b9fa7c272da2e1d7</td>\n",
       "      <td>20</td>\n",
       "      <td>5</td>\n",
       "      <td>10</td>\n",
       "      <td>1</td>\n",
       "      <td>0</td>\n",
       "      <td>0</td>\n",
       "      <td>1</td>\n",
       "      <td>0</td>\n",
       "      <td>1</td>\n",
       "      <td>0</td>\n",
       "    </tr>\n",
       "    <tr>\n",
       "      <td>5</td>\n",
       "      <td>DISC - $7/\\$3 - 7days</td>\n",
       "      <td>2298d6c36e964ae4a3e7e9706d1fb8c2</td>\n",
       "      <td>7</td>\n",
       "      <td>3</td>\n",
       "      <td>7</td>\n",
       "      <td>1</td>\n",
       "      <td>1</td>\n",
       "      <td>1</td>\n",
       "      <td>1</td>\n",
       "      <td>0</td>\n",
       "      <td>1</td>\n",
       "      <td>0</td>\n",
       "    </tr>\n",
       "    <tr>\n",
       "      <td>6</td>\n",
       "      <td>DISC - $10/\\$2 - 10days</td>\n",
       "      <td>fafdcd668e3743c1bb461111dcafc2a4</td>\n",
       "      <td>10</td>\n",
       "      <td>2</td>\n",
       "      <td>10</td>\n",
       "      <td>1</td>\n",
       "      <td>1</td>\n",
       "      <td>1</td>\n",
       "      <td>1</td>\n",
       "      <td>0</td>\n",
       "      <td>1</td>\n",
       "      <td>0</td>\n",
       "    </tr>\n",
       "    <tr>\n",
       "      <td>7</td>\n",
       "      <td>INFO - $0 - 3days</td>\n",
       "      <td>5a8bc65990b245e5a138643cd4eb9837</td>\n",
       "      <td>0</td>\n",
       "      <td>0</td>\n",
       "      <td>3</td>\n",
       "      <td>1</td>\n",
       "      <td>1</td>\n",
       "      <td>1</td>\n",
       "      <td>0</td>\n",
       "      <td>0</td>\n",
       "      <td>0</td>\n",
       "      <td>1</td>\n",
       "    </tr>\n",
       "    <tr>\n",
       "      <td>8</td>\n",
       "      <td>BOGO - $5 - 5days</td>\n",
       "      <td>f19421c1d4aa40978ebb69ca19b0e20d</td>\n",
       "      <td>5</td>\n",
       "      <td>5</td>\n",
       "      <td>5</td>\n",
       "      <td>1</td>\n",
       "      <td>1</td>\n",
       "      <td>1</td>\n",
       "      <td>1</td>\n",
       "      <td>1</td>\n",
       "      <td>0</td>\n",
       "      <td>0</td>\n",
       "    </tr>\n",
       "    <tr>\n",
       "      <td>9</td>\n",
       "      <td>DISC - \\$10/\\$2 - 7days</td>\n",
       "      <td>2906b810c7d4411798c6938adc9daaa5</td>\n",
       "      <td>10</td>\n",
       "      <td>2</td>\n",
       "      <td>7</td>\n",
       "      <td>1</td>\n",
       "      <td>1</td>\n",
       "      <td>0</td>\n",
       "      <td>1</td>\n",
       "      <td>0</td>\n",
       "      <td>1</td>\n",
       "      <td>0</td>\n",
       "    </tr>\n",
       "  </tbody>\n",
       "</table>\n",
       "</div>"
      ],
      "text/plain": [
       "               readable_id                                id  difficulty  \\\n",
       "0       BOGO - $10 - 7days  ae264e3637204a6fb9bb56bc8210ddfd          10   \n",
       "1       BOGO - $10 - 5days  4d5c57ea9a6940dd891ad53e9dbe8da0          10   \n",
       "2        INFO - $0 - 4days  3f207df678b143eea3cee63160fa8bed           0   \n",
       "3        BOGO - $5 - 7days  9b98b8c7a33c4b65b9aebfe6a799e6d9           5   \n",
       "4  DISC - $20/\\$5 - 10days  0b1e1539f2cc45b7b9fa7c272da2e1d7          20   \n",
       "5    DISC - $7/\\$3 - 7days  2298d6c36e964ae4a3e7e9706d1fb8c2           7   \n",
       "6  DISC - $10/\\$2 - 10days  fafdcd668e3743c1bb461111dcafc2a4          10   \n",
       "7        INFO - $0 - 3days  5a8bc65990b245e5a138643cd4eb9837           0   \n",
       "8        BOGO - $5 - 5days  f19421c1d4aa40978ebb69ca19b0e20d           5   \n",
       "9  DISC - \\$10/\\$2 - 7days  2906b810c7d4411798c6938adc9daaa5          10   \n",
       "\n",
       "   reward  duration  email  mobile  social  web  bogo  discount  informational  \n",
       "0      10         7      1       1       1    0     1         0              0  \n",
       "1      10         5      1       1       1    1     1         0              0  \n",
       "2       0         4      1       1       0    1     0         0              1  \n",
       "3       5         7      1       1       0    1     1         0              0  \n",
       "4       5        10      1       0       0    1     0         1              0  \n",
       "5       3         7      1       1       1    1     0         1              0  \n",
       "6       2        10      1       1       1    1     0         1              0  \n",
       "7       0         3      1       1       1    0     0         0              1  \n",
       "8       5         5      1       1       1    1     1         0              0  \n",
       "9       2         7      1       1       0    1     0         1              0  "
      ]
     },
     "execution_count": 29,
     "metadata": {},
     "output_type": "execute_result"
    }
   ],
   "source": [
    "clean_portfolio.head(10)"
   ]
  },
  {
   "cell_type": "code",
   "execution_count": 32,
   "metadata": {},
   "outputs": [
    {
     "name": "stdout",
     "output_type": "stream",
     "text": [
      "Original Number of Rows:  17000\n",
      "Final Number of Rows:  14825\n",
      "Null Values Dropped:  2175\n"
     ]
    },
    {
     "name": "stderr",
     "output_type": "stream",
     "text": [
      "/Users/jordannishimura/opt/anaconda3/lib/python3.7/site-packages/ipykernel_launcher.py:34: SettingWithCopyWarning: \n",
      "A value is trying to be set on a copy of a slice from a DataFrame.\n",
      "Try using .loc[row_indexer,col_indexer] = value instead\n",
      "\n",
      "See the caveats in the documentation: http://pandas.pydata.org/pandas-docs/stable/user_guide/indexing.html#returning-a-view-versus-a-copy\n",
      "/Users/jordannishimura/opt/anaconda3/lib/python3.7/site-packages/ipykernel_launcher.py:45: SettingWithCopyWarning: \n",
      "A value is trying to be set on a copy of a slice from a DataFrame.\n",
      "Try using .loc[row_indexer,col_indexer] = value instead\n",
      "\n",
      "See the caveats in the documentation: http://pandas.pydata.org/pandas-docs/stable/user_guide/indexing.html#returning-a-view-versus-a-copy\n"
     ]
    }
   ],
   "source": [
    "def clean_profile(df=profile):\n",
    "    \n",
    "    # Convert column to datetime object\n",
    "    df['became_member_on'] = pd.to_datetime(df['became_member_on'], format='%Y%m%d')\n",
    "    \n",
    "    # Extract the year \n",
    "    df['year_joined'] = pd.DatetimeIndex(df['became_member_on']).year\n",
    "    \n",
    "    # Change 118 to nan. This was likely used as a placeholder to indicate unknown.\n",
    "    # Customers with this age also had null values for income and gender\n",
    "    df.loc[df['age'] == 118] = np.nan\n",
    "    \n",
    "    orig_num_rows = df.shape[0]\n",
    "    print('Original Number of Rows: ', orig_num_rows)\n",
    "        \n",
    "    # Drop nulls - We do not have any demographic information regarding these customers to work with\n",
    "    df = df.dropna(axis=0)\n",
    "            \n",
    "    final_num_rows = df.shape[0]\n",
    "    print('Final Number of Rows: ', final_num_rows)\n",
    "    print('Null Values Dropped: ', orig_num_rows - final_num_rows)\n",
    "    \n",
    "    \n",
    "    # create age groups \n",
    "    cond_lst = [df['age'].between(18,24),\n",
    "            df['age'].between(25,34),\n",
    "            df['age'].between(35,44),\n",
    "            df['age'].between(45,54),\n",
    "            df['age'].between(55,64),\n",
    "            df['age'].between(65,74),\n",
    "            df['age'].between(75,117)]\n",
    "    \n",
    "    choice_lst = [\"18-24\", \"25-34\", \"35-44\", \"45-54\", \"55-64\", \"65-74\", \"75+\"]\n",
    "    df['age_group'] = np.select(condlist = cond_lst, choicelist=choice_lst)\n",
    "    \n",
    "\n",
    "    cond_lst = [df['income'].between(30000,44999),\n",
    "                df['income'].between(45000,59999),\n",
    "                df['income'].between(60000,74999),\n",
    "                df['income'].between(75000,89999),\n",
    "                df['income'].between(90000,104999),\n",
    "                df['income'].between(105000,120000)]\n",
    "    choice_lst = [\"30-45k\", \"45-60k\", \"60-75k\", \"75-90k\", \"90-105k\", \"105k+\"]\n",
    "\n",
    "    df['income_group'] = np.select(condlist = cond_lst, choicelist=choice_lst)    \n",
    "    \n",
    "    \n",
    "    return df\n",
    "\n",
    "clean_profile = clean_profile(df=profile)\n",
    "clean_profile.to_csv('clean_profile.csv',index=False)"
   ]
  },
  {
   "cell_type": "code",
   "execution_count": 33,
   "metadata": {},
   "outputs": [
    {
     "data": {
      "text/html": [
       "<div>\n",
       "<style scoped>\n",
       "    .dataframe tbody tr th:only-of-type {\n",
       "        vertical-align: middle;\n",
       "    }\n",
       "\n",
       "    .dataframe tbody tr th {\n",
       "        vertical-align: top;\n",
       "    }\n",
       "\n",
       "    .dataframe thead th {\n",
       "        text-align: right;\n",
       "    }\n",
       "</style>\n",
       "<table border=\"1\" class=\"dataframe\">\n",
       "  <thead>\n",
       "    <tr style=\"text-align: right;\">\n",
       "      <th></th>\n",
       "      <th>gender</th>\n",
       "      <th>age</th>\n",
       "      <th>id</th>\n",
       "      <th>became_member_on</th>\n",
       "      <th>income</th>\n",
       "      <th>year_joined</th>\n",
       "      <th>age_group</th>\n",
       "      <th>income_group</th>\n",
       "    </tr>\n",
       "  </thead>\n",
       "  <tbody>\n",
       "    <tr>\n",
       "      <td>1</td>\n",
       "      <td>F</td>\n",
       "      <td>55.0</td>\n",
       "      <td>0610b486422d4921ae7d2bf64640c50b</td>\n",
       "      <td>2017-07-15</td>\n",
       "      <td>112000.0</td>\n",
       "      <td>2017.0</td>\n",
       "      <td>55-64</td>\n",
       "      <td>105k+</td>\n",
       "    </tr>\n",
       "    <tr>\n",
       "      <td>3</td>\n",
       "      <td>F</td>\n",
       "      <td>75.0</td>\n",
       "      <td>78afa995795e4d85b5d9ceeca43f5fef</td>\n",
       "      <td>2017-05-09</td>\n",
       "      <td>100000.0</td>\n",
       "      <td>2017.0</td>\n",
       "      <td>75+</td>\n",
       "      <td>90-105k</td>\n",
       "    </tr>\n",
       "    <tr>\n",
       "      <td>5</td>\n",
       "      <td>M</td>\n",
       "      <td>68.0</td>\n",
       "      <td>e2127556f4f64592b11af22de27a7932</td>\n",
       "      <td>2018-04-26</td>\n",
       "      <td>70000.0</td>\n",
       "      <td>2018.0</td>\n",
       "      <td>65-74</td>\n",
       "      <td>60-75k</td>\n",
       "    </tr>\n",
       "    <tr>\n",
       "      <td>8</td>\n",
       "      <td>M</td>\n",
       "      <td>65.0</td>\n",
       "      <td>389bc3fa690240e798340f5a15918d5c</td>\n",
       "      <td>2018-02-09</td>\n",
       "      <td>53000.0</td>\n",
       "      <td>2018.0</td>\n",
       "      <td>65-74</td>\n",
       "      <td>45-60k</td>\n",
       "    </tr>\n",
       "    <tr>\n",
       "      <td>12</td>\n",
       "      <td>M</td>\n",
       "      <td>58.0</td>\n",
       "      <td>2eeac8d8feae4a8cad5a6af0499a211d</td>\n",
       "      <td>2017-11-11</td>\n",
       "      <td>51000.0</td>\n",
       "      <td>2017.0</td>\n",
       "      <td>55-64</td>\n",
       "      <td>45-60k</td>\n",
       "    </tr>\n",
       "  </tbody>\n",
       "</table>\n",
       "</div>"
      ],
      "text/plain": [
       "   gender   age                                id became_member_on    income  \\\n",
       "1       F  55.0  0610b486422d4921ae7d2bf64640c50b       2017-07-15  112000.0   \n",
       "3       F  75.0  78afa995795e4d85b5d9ceeca43f5fef       2017-05-09  100000.0   \n",
       "5       M  68.0  e2127556f4f64592b11af22de27a7932       2018-04-26   70000.0   \n",
       "8       M  65.0  389bc3fa690240e798340f5a15918d5c       2018-02-09   53000.0   \n",
       "12      M  58.0  2eeac8d8feae4a8cad5a6af0499a211d       2017-11-11   51000.0   \n",
       "\n",
       "    year_joined age_group income_group  \n",
       "1        2017.0     55-64        105k+  \n",
       "3        2017.0       75+      90-105k  \n",
       "5        2018.0     65-74       60-75k  \n",
       "8        2018.0     65-74       45-60k  \n",
       "12       2017.0     55-64       45-60k  "
      ]
     },
     "execution_count": 33,
     "metadata": {},
     "output_type": "execute_result"
    }
   ],
   "source": [
    "clean_profile.head()"
   ]
  },
  {
   "cell_type": "code",
   "execution_count": 34,
   "metadata": {},
   "outputs": [
    {
     "data": {
      "text/html": [
       "<div>\n",
       "<style scoped>\n",
       "    .dataframe tbody tr th:only-of-type {\n",
       "        vertical-align: middle;\n",
       "    }\n",
       "\n",
       "    .dataframe tbody tr th {\n",
       "        vertical-align: top;\n",
       "    }\n",
       "\n",
       "    .dataframe thead th {\n",
       "        text-align: right;\n",
       "    }\n",
       "</style>\n",
       "<table border=\"1\" class=\"dataframe\">\n",
       "  <thead>\n",
       "    <tr style=\"text-align: right;\">\n",
       "      <th></th>\n",
       "      <th>person</th>\n",
       "      <th>event</th>\n",
       "      <th>time</th>\n",
       "      <th>transaction_amt</th>\n",
       "      <th>offer_id</th>\n",
       "      <th>reward</th>\n",
       "    </tr>\n",
       "  </thead>\n",
       "  <tbody>\n",
       "    <tr>\n",
       "      <td>0</td>\n",
       "      <td>78afa995795e4d85b5d9ceeca43f5fef</td>\n",
       "      <td>offer received</td>\n",
       "      <td>0</td>\n",
       "      <td>NaN</td>\n",
       "      <td>9b98b8c7a33c4b65b9aebfe6a799e6d9</td>\n",
       "      <td>NaN</td>\n",
       "    </tr>\n",
       "    <tr>\n",
       "      <td>1</td>\n",
       "      <td>a03223e636434f42ac4c3df47e8bac43</td>\n",
       "      <td>offer received</td>\n",
       "      <td>0</td>\n",
       "      <td>NaN</td>\n",
       "      <td>0b1e1539f2cc45b7b9fa7c272da2e1d7</td>\n",
       "      <td>NaN</td>\n",
       "    </tr>\n",
       "    <tr>\n",
       "      <td>2</td>\n",
       "      <td>e2127556f4f64592b11af22de27a7932</td>\n",
       "      <td>offer received</td>\n",
       "      <td>0</td>\n",
       "      <td>NaN</td>\n",
       "      <td>2906b810c7d4411798c6938adc9daaa5</td>\n",
       "      <td>NaN</td>\n",
       "    </tr>\n",
       "    <tr>\n",
       "      <td>3</td>\n",
       "      <td>8ec6ce2a7e7949b1bf142def7d0e0586</td>\n",
       "      <td>offer received</td>\n",
       "      <td>0</td>\n",
       "      <td>NaN</td>\n",
       "      <td>fafdcd668e3743c1bb461111dcafc2a4</td>\n",
       "      <td>NaN</td>\n",
       "    </tr>\n",
       "    <tr>\n",
       "      <td>4</td>\n",
       "      <td>68617ca6246f4fbc85e91a2a49552598</td>\n",
       "      <td>offer received</td>\n",
       "      <td>0</td>\n",
       "      <td>NaN</td>\n",
       "      <td>4d5c57ea9a6940dd891ad53e9dbe8da0</td>\n",
       "      <td>NaN</td>\n",
       "    </tr>\n",
       "    <tr>\n",
       "      <td>...</td>\n",
       "      <td>...</td>\n",
       "      <td>...</td>\n",
       "      <td>...</td>\n",
       "      <td>...</td>\n",
       "      <td>...</td>\n",
       "      <td>...</td>\n",
       "    </tr>\n",
       "    <tr>\n",
       "      <td>306529</td>\n",
       "      <td>b3a1272bc9904337b331bf348c3e8c17</td>\n",
       "      <td>transaction</td>\n",
       "      <td>714</td>\n",
       "      <td>1.59</td>\n",
       "      <td>NaN</td>\n",
       "      <td>NaN</td>\n",
       "    </tr>\n",
       "    <tr>\n",
       "      <td>306530</td>\n",
       "      <td>68213b08d99a4ae1b0dcb72aebd9aa35</td>\n",
       "      <td>transaction</td>\n",
       "      <td>714</td>\n",
       "      <td>9.53</td>\n",
       "      <td>NaN</td>\n",
       "      <td>NaN</td>\n",
       "    </tr>\n",
       "    <tr>\n",
       "      <td>306531</td>\n",
       "      <td>a00058cf10334a308c68e7631c529907</td>\n",
       "      <td>transaction</td>\n",
       "      <td>714</td>\n",
       "      <td>3.61</td>\n",
       "      <td>NaN</td>\n",
       "      <td>NaN</td>\n",
       "    </tr>\n",
       "    <tr>\n",
       "      <td>306532</td>\n",
       "      <td>76ddbd6576844afe811f1a3c0fbb5bec</td>\n",
       "      <td>transaction</td>\n",
       "      <td>714</td>\n",
       "      <td>3.53</td>\n",
       "      <td>NaN</td>\n",
       "      <td>NaN</td>\n",
       "    </tr>\n",
       "    <tr>\n",
       "      <td>306533</td>\n",
       "      <td>c02b10e8752c4d8e9b73f918558531f7</td>\n",
       "      <td>transaction</td>\n",
       "      <td>714</td>\n",
       "      <td>4.05</td>\n",
       "      <td>NaN</td>\n",
       "      <td>NaN</td>\n",
       "    </tr>\n",
       "  </tbody>\n",
       "</table>\n",
       "<p>306534 rows × 6 columns</p>\n",
       "</div>"
      ],
      "text/plain": [
       "                                  person           event  time  \\\n",
       "0       78afa995795e4d85b5d9ceeca43f5fef  offer received     0   \n",
       "1       a03223e636434f42ac4c3df47e8bac43  offer received     0   \n",
       "2       e2127556f4f64592b11af22de27a7932  offer received     0   \n",
       "3       8ec6ce2a7e7949b1bf142def7d0e0586  offer received     0   \n",
       "4       68617ca6246f4fbc85e91a2a49552598  offer received     0   \n",
       "...                                  ...             ...   ...   \n",
       "306529  b3a1272bc9904337b331bf348c3e8c17     transaction   714   \n",
       "306530  68213b08d99a4ae1b0dcb72aebd9aa35     transaction   714   \n",
       "306531  a00058cf10334a308c68e7631c529907     transaction   714   \n",
       "306532  76ddbd6576844afe811f1a3c0fbb5bec     transaction   714   \n",
       "306533  c02b10e8752c4d8e9b73f918558531f7     transaction   714   \n",
       "\n",
       "        transaction_amt                          offer_id  reward  \n",
       "0                   NaN  9b98b8c7a33c4b65b9aebfe6a799e6d9     NaN  \n",
       "1                   NaN  0b1e1539f2cc45b7b9fa7c272da2e1d7     NaN  \n",
       "2                   NaN  2906b810c7d4411798c6938adc9daaa5     NaN  \n",
       "3                   NaN  fafdcd668e3743c1bb461111dcafc2a4     NaN  \n",
       "4                   NaN  4d5c57ea9a6940dd891ad53e9dbe8da0     NaN  \n",
       "...                 ...                               ...     ...  \n",
       "306529             1.59                               NaN     NaN  \n",
       "306530             9.53                               NaN     NaN  \n",
       "306531             3.61                               NaN     NaN  \n",
       "306532             3.53                               NaN     NaN  \n",
       "306533             4.05                               NaN     NaN  \n",
       "\n",
       "[306534 rows x 6 columns]"
      ]
     },
     "execution_count": 34,
     "metadata": {},
     "output_type": "execute_result"
    }
   ],
   "source": [
    "def clean_transcript(df=transcript):\n",
    "    df['transaction_amt'] = df.apply(lambda row: row['value']['amount'] if 'amount' in row['value'].keys() else np.nan, axis=1)\n",
    "    df['offer_id'] = df.apply(lambda row: row['value']['offer id'] if 'offer id' in row['value'].keys() else np.nan, axis=1)\n",
    "    df['reward'] = df.apply(lambda row: row['value']['reward'] if 'reward' in row['value'].keys() else np.nan, axis=1)\n",
    "    \n",
    "    df.drop(columns=['value'], inplace=True, errors='ignore')\n",
    "    \n",
    "    return df\n",
    "\n",
    "clean_transcript = clean_transcript(df=transcript)\n",
    "clean_transcript"
   ]
  },
  {
   "cell_type": "code",
   "execution_count": 35,
   "metadata": {},
   "outputs": [],
   "source": [
    "clean_transcript.to_csv('clean_transcript.csv', index=False)"
   ]
  },
  {
   "cell_type": "code",
   "execution_count": 36,
   "metadata": {},
   "outputs": [
    {
     "data": {
      "text/html": [
       "<div>\n",
       "<style scoped>\n",
       "    .dataframe tbody tr th:only-of-type {\n",
       "        vertical-align: middle;\n",
       "    }\n",
       "\n",
       "    .dataframe tbody tr th {\n",
       "        vertical-align: top;\n",
       "    }\n",
       "\n",
       "    .dataframe thead th {\n",
       "        text-align: right;\n",
       "    }\n",
       "</style>\n",
       "<table border=\"1\" class=\"dataframe\">\n",
       "  <thead>\n",
       "    <tr style=\"text-align: right;\">\n",
       "      <th></th>\n",
       "      <th>person</th>\n",
       "      <th>gender</th>\n",
       "      <th>age</th>\n",
       "      <th>became_member_on</th>\n",
       "      <th>income</th>\n",
       "      <th>year_joined</th>\n",
       "      <th>age_group</th>\n",
       "      <th>income_group</th>\n",
       "      <th>event</th>\n",
       "      <th>time</th>\n",
       "      <th>transaction_amt</th>\n",
       "      <th>readable_id</th>\n",
       "      <th>difficulty</th>\n",
       "      <th>reward_y</th>\n",
       "      <th>duration</th>\n",
       "      <th>email</th>\n",
       "      <th>mobile</th>\n",
       "      <th>social</th>\n",
       "      <th>web</th>\n",
       "      <th>bogo</th>\n",
       "      <th>discount</th>\n",
       "      <th>informational</th>\n",
       "    </tr>\n",
       "  </thead>\n",
       "  <tbody>\n",
       "    <tr>\n",
       "      <td>0</td>\n",
       "      <td>0610b486422d4921ae7d2bf64640c50b</td>\n",
       "      <td>F</td>\n",
       "      <td>55.0</td>\n",
       "      <td>2017-07-15</td>\n",
       "      <td>112000.0</td>\n",
       "      <td>2017.0</td>\n",
       "      <td>55-64</td>\n",
       "      <td>105k+</td>\n",
       "      <td>transaction</td>\n",
       "      <td>18</td>\n",
       "      <td>21.51</td>\n",
       "      <td>NaN</td>\n",
       "      <td>NaN</td>\n",
       "      <td>NaN</td>\n",
       "      <td>NaN</td>\n",
       "      <td>NaN</td>\n",
       "      <td>NaN</td>\n",
       "      <td>NaN</td>\n",
       "      <td>NaN</td>\n",
       "      <td>NaN</td>\n",
       "      <td>NaN</td>\n",
       "      <td>NaN</td>\n",
       "    </tr>\n",
       "    <tr>\n",
       "      <td>1</td>\n",
       "      <td>0610b486422d4921ae7d2bf64640c50b</td>\n",
       "      <td>F</td>\n",
       "      <td>55.0</td>\n",
       "      <td>2017-07-15</td>\n",
       "      <td>112000.0</td>\n",
       "      <td>2017.0</td>\n",
       "      <td>55-64</td>\n",
       "      <td>105k+</td>\n",
       "      <td>transaction</td>\n",
       "      <td>144</td>\n",
       "      <td>32.28</td>\n",
       "      <td>NaN</td>\n",
       "      <td>NaN</td>\n",
       "      <td>NaN</td>\n",
       "      <td>NaN</td>\n",
       "      <td>NaN</td>\n",
       "      <td>NaN</td>\n",
       "      <td>NaN</td>\n",
       "      <td>NaN</td>\n",
       "      <td>NaN</td>\n",
       "      <td>NaN</td>\n",
       "      <td>NaN</td>\n",
       "    </tr>\n",
       "    <tr>\n",
       "      <td>2</td>\n",
       "      <td>0610b486422d4921ae7d2bf64640c50b</td>\n",
       "      <td>F</td>\n",
       "      <td>55.0</td>\n",
       "      <td>2017-07-15</td>\n",
       "      <td>112000.0</td>\n",
       "      <td>2017.0</td>\n",
       "      <td>55-64</td>\n",
       "      <td>105k+</td>\n",
       "      <td>offer received</td>\n",
       "      <td>408</td>\n",
       "      <td>NaN</td>\n",
       "      <td>BOGO - $5 - 7days</td>\n",
       "      <td>5.0</td>\n",
       "      <td>5.0</td>\n",
       "      <td>7.0</td>\n",
       "      <td>1.0</td>\n",
       "      <td>1.0</td>\n",
       "      <td>0.0</td>\n",
       "      <td>1.0</td>\n",
       "      <td>1.0</td>\n",
       "      <td>0.0</td>\n",
       "      <td>0.0</td>\n",
       "    </tr>\n",
       "    <tr>\n",
       "      <td>3</td>\n",
       "      <td>0610b486422d4921ae7d2bf64640c50b</td>\n",
       "      <td>F</td>\n",
       "      <td>55.0</td>\n",
       "      <td>2017-07-15</td>\n",
       "      <td>112000.0</td>\n",
       "      <td>2017.0</td>\n",
       "      <td>55-64</td>\n",
       "      <td>105k+</td>\n",
       "      <td>offer received</td>\n",
       "      <td>504</td>\n",
       "      <td>NaN</td>\n",
       "      <td>INFO - $0 - 4days</td>\n",
       "      <td>0.0</td>\n",
       "      <td>0.0</td>\n",
       "      <td>4.0</td>\n",
       "      <td>1.0</td>\n",
       "      <td>1.0</td>\n",
       "      <td>0.0</td>\n",
       "      <td>1.0</td>\n",
       "      <td>0.0</td>\n",
       "      <td>0.0</td>\n",
       "      <td>1.0</td>\n",
       "    </tr>\n",
       "    <tr>\n",
       "      <td>4</td>\n",
       "      <td>0610b486422d4921ae7d2bf64640c50b</td>\n",
       "      <td>F</td>\n",
       "      <td>55.0</td>\n",
       "      <td>2017-07-15</td>\n",
       "      <td>112000.0</td>\n",
       "      <td>2017.0</td>\n",
       "      <td>55-64</td>\n",
       "      <td>105k+</td>\n",
       "      <td>transaction</td>\n",
       "      <td>528</td>\n",
       "      <td>23.22</td>\n",
       "      <td>NaN</td>\n",
       "      <td>NaN</td>\n",
       "      <td>NaN</td>\n",
       "      <td>NaN</td>\n",
       "      <td>NaN</td>\n",
       "      <td>NaN</td>\n",
       "      <td>NaN</td>\n",
       "      <td>NaN</td>\n",
       "      <td>NaN</td>\n",
       "      <td>NaN</td>\n",
       "      <td>NaN</td>\n",
       "    </tr>\n",
       "    <tr>\n",
       "      <td>...</td>\n",
       "      <td>...</td>\n",
       "      <td>...</td>\n",
       "      <td>...</td>\n",
       "      <td>...</td>\n",
       "      <td>...</td>\n",
       "      <td>...</td>\n",
       "      <td>...</td>\n",
       "      <td>...</td>\n",
       "      <td>...</td>\n",
       "      <td>...</td>\n",
       "      <td>...</td>\n",
       "      <td>...</td>\n",
       "      <td>...</td>\n",
       "      <td>...</td>\n",
       "      <td>...</td>\n",
       "      <td>...</td>\n",
       "      <td>...</td>\n",
       "      <td>...</td>\n",
       "      <td>...</td>\n",
       "      <td>...</td>\n",
       "      <td>...</td>\n",
       "      <td>...</td>\n",
       "    </tr>\n",
       "    <tr>\n",
       "      <td>272757</td>\n",
       "      <td>e4052622e5ba45a8b96b59aba68cf068</td>\n",
       "      <td>F</td>\n",
       "      <td>62.0</td>\n",
       "      <td>2017-07-22</td>\n",
       "      <td>82000.0</td>\n",
       "      <td>2017.0</td>\n",
       "      <td>55-64</td>\n",
       "      <td>75-90k</td>\n",
       "      <td>offer completed</td>\n",
       "      <td>480</td>\n",
       "      <td>NaN</td>\n",
       "      <td>NaN</td>\n",
       "      <td>NaN</td>\n",
       "      <td>NaN</td>\n",
       "      <td>NaN</td>\n",
       "      <td>NaN</td>\n",
       "      <td>NaN</td>\n",
       "      <td>NaN</td>\n",
       "      <td>NaN</td>\n",
       "      <td>NaN</td>\n",
       "      <td>NaN</td>\n",
       "      <td>NaN</td>\n",
       "    </tr>\n",
       "    <tr>\n",
       "      <td>272758</td>\n",
       "      <td>e4052622e5ba45a8b96b59aba68cf068</td>\n",
       "      <td>F</td>\n",
       "      <td>62.0</td>\n",
       "      <td>2017-07-22</td>\n",
       "      <td>82000.0</td>\n",
       "      <td>2017.0</td>\n",
       "      <td>55-64</td>\n",
       "      <td>75-90k</td>\n",
       "      <td>transaction</td>\n",
       "      <td>486</td>\n",
       "      <td>19.47</td>\n",
       "      <td>NaN</td>\n",
       "      <td>NaN</td>\n",
       "      <td>NaN</td>\n",
       "      <td>NaN</td>\n",
       "      <td>NaN</td>\n",
       "      <td>NaN</td>\n",
       "      <td>NaN</td>\n",
       "      <td>NaN</td>\n",
       "      <td>NaN</td>\n",
       "      <td>NaN</td>\n",
       "      <td>NaN</td>\n",
       "    </tr>\n",
       "    <tr>\n",
       "      <td>272759</td>\n",
       "      <td>e4052622e5ba45a8b96b59aba68cf068</td>\n",
       "      <td>F</td>\n",
       "      <td>62.0</td>\n",
       "      <td>2017-07-22</td>\n",
       "      <td>82000.0</td>\n",
       "      <td>2017.0</td>\n",
       "      <td>55-64</td>\n",
       "      <td>75-90k</td>\n",
       "      <td>offer viewed</td>\n",
       "      <td>546</td>\n",
       "      <td>NaN</td>\n",
       "      <td>BOGO - $5 - 5days</td>\n",
       "      <td>5.0</td>\n",
       "      <td>5.0</td>\n",
       "      <td>5.0</td>\n",
       "      <td>1.0</td>\n",
       "      <td>1.0</td>\n",
       "      <td>1.0</td>\n",
       "      <td>1.0</td>\n",
       "      <td>1.0</td>\n",
       "      <td>0.0</td>\n",
       "      <td>0.0</td>\n",
       "    </tr>\n",
       "    <tr>\n",
       "      <td>272760</td>\n",
       "      <td>e4052622e5ba45a8b96b59aba68cf068</td>\n",
       "      <td>F</td>\n",
       "      <td>62.0</td>\n",
       "      <td>2017-07-22</td>\n",
       "      <td>82000.0</td>\n",
       "      <td>2017.0</td>\n",
       "      <td>55-64</td>\n",
       "      <td>75-90k</td>\n",
       "      <td>offer received</td>\n",
       "      <td>576</td>\n",
       "      <td>NaN</td>\n",
       "      <td>INFO - $0 - 4days</td>\n",
       "      <td>0.0</td>\n",
       "      <td>0.0</td>\n",
       "      <td>4.0</td>\n",
       "      <td>1.0</td>\n",
       "      <td>1.0</td>\n",
       "      <td>0.0</td>\n",
       "      <td>1.0</td>\n",
       "      <td>0.0</td>\n",
       "      <td>0.0</td>\n",
       "      <td>1.0</td>\n",
       "    </tr>\n",
       "    <tr>\n",
       "      <td>272761</td>\n",
       "      <td>e4052622e5ba45a8b96b59aba68cf068</td>\n",
       "      <td>F</td>\n",
       "      <td>62.0</td>\n",
       "      <td>2017-07-22</td>\n",
       "      <td>82000.0</td>\n",
       "      <td>2017.0</td>\n",
       "      <td>55-64</td>\n",
       "      <td>75-90k</td>\n",
       "      <td>transaction</td>\n",
       "      <td>690</td>\n",
       "      <td>24.71</td>\n",
       "      <td>NaN</td>\n",
       "      <td>NaN</td>\n",
       "      <td>NaN</td>\n",
       "      <td>NaN</td>\n",
       "      <td>NaN</td>\n",
       "      <td>NaN</td>\n",
       "      <td>NaN</td>\n",
       "      <td>NaN</td>\n",
       "      <td>NaN</td>\n",
       "      <td>NaN</td>\n",
       "      <td>NaN</td>\n",
       "    </tr>\n",
       "  </tbody>\n",
       "</table>\n",
       "<p>272762 rows × 22 columns</p>\n",
       "</div>"
      ],
      "text/plain": [
       "                                  person gender   age became_member_on  \\\n",
       "0       0610b486422d4921ae7d2bf64640c50b      F  55.0       2017-07-15   \n",
       "1       0610b486422d4921ae7d2bf64640c50b      F  55.0       2017-07-15   \n",
       "2       0610b486422d4921ae7d2bf64640c50b      F  55.0       2017-07-15   \n",
       "3       0610b486422d4921ae7d2bf64640c50b      F  55.0       2017-07-15   \n",
       "4       0610b486422d4921ae7d2bf64640c50b      F  55.0       2017-07-15   \n",
       "...                                  ...    ...   ...              ...   \n",
       "272757  e4052622e5ba45a8b96b59aba68cf068      F  62.0       2017-07-22   \n",
       "272758  e4052622e5ba45a8b96b59aba68cf068      F  62.0       2017-07-22   \n",
       "272759  e4052622e5ba45a8b96b59aba68cf068      F  62.0       2017-07-22   \n",
       "272760  e4052622e5ba45a8b96b59aba68cf068      F  62.0       2017-07-22   \n",
       "272761  e4052622e5ba45a8b96b59aba68cf068      F  62.0       2017-07-22   \n",
       "\n",
       "          income  year_joined age_group income_group            event  time  \\\n",
       "0       112000.0       2017.0     55-64        105k+      transaction    18   \n",
       "1       112000.0       2017.0     55-64        105k+      transaction   144   \n",
       "2       112000.0       2017.0     55-64        105k+   offer received   408   \n",
       "3       112000.0       2017.0     55-64        105k+   offer received   504   \n",
       "4       112000.0       2017.0     55-64        105k+      transaction   528   \n",
       "...          ...          ...       ...          ...              ...   ...   \n",
       "272757   82000.0       2017.0     55-64       75-90k  offer completed   480   \n",
       "272758   82000.0       2017.0     55-64       75-90k      transaction   486   \n",
       "272759   82000.0       2017.0     55-64       75-90k     offer viewed   546   \n",
       "272760   82000.0       2017.0     55-64       75-90k   offer received   576   \n",
       "272761   82000.0       2017.0     55-64       75-90k      transaction   690   \n",
       "\n",
       "        transaction_amt        readable_id  difficulty  reward_y  duration  \\\n",
       "0                 21.51                NaN         NaN       NaN       NaN   \n",
       "1                 32.28                NaN         NaN       NaN       NaN   \n",
       "2                   NaN  BOGO - $5 - 7days         5.0       5.0       7.0   \n",
       "3                   NaN  INFO - $0 - 4days         0.0       0.0       4.0   \n",
       "4                 23.22                NaN         NaN       NaN       NaN   \n",
       "...                 ...                ...         ...       ...       ...   \n",
       "272757              NaN                NaN         NaN       NaN       NaN   \n",
       "272758            19.47                NaN         NaN       NaN       NaN   \n",
       "272759              NaN  BOGO - $5 - 5days         5.0       5.0       5.0   \n",
       "272760              NaN  INFO - $0 - 4days         0.0       0.0       4.0   \n",
       "272761            24.71                NaN         NaN       NaN       NaN   \n",
       "\n",
       "        email  mobile  social  web  bogo  discount  informational  \n",
       "0         NaN     NaN     NaN  NaN   NaN       NaN            NaN  \n",
       "1         NaN     NaN     NaN  NaN   NaN       NaN            NaN  \n",
       "2         1.0     1.0     0.0  1.0   1.0       0.0            0.0  \n",
       "3         1.0     1.0     0.0  1.0   0.0       0.0            1.0  \n",
       "4         NaN     NaN     NaN  NaN   NaN       NaN            NaN  \n",
       "...       ...     ...     ...  ...   ...       ...            ...  \n",
       "272757    NaN     NaN     NaN  NaN   NaN       NaN            NaN  \n",
       "272758    NaN     NaN     NaN  NaN   NaN       NaN            NaN  \n",
       "272759    1.0     1.0     1.0  1.0   1.0       0.0            0.0  \n",
       "272760    1.0     1.0     0.0  1.0   0.0       0.0            1.0  \n",
       "272761    NaN     NaN     NaN  NaN   NaN       NaN            NaN  \n",
       "\n",
       "[272762 rows x 22 columns]"
      ]
     },
     "execution_count": 36,
     "metadata": {},
     "output_type": "execute_result"
    }
   ],
   "source": [
    "def create_merged_df(portfolio_df=clean_portfolio, profile_df=clean_profile, transcript_df=clean_transcript):\n",
    "    \"\"\"Merges the three datasets to one master df\n",
    "    INPUTS\n",
    "    portfolio_df: dataframe of offers including and 'offer_id' column with offer id's\n",
    "    profile_df: dataframe of customer demographic data including an 'id' column with customer id's\n",
    "    transcript_df: dataframe of every event during experiment including offer_id column and customer_id column\n",
    "    \n",
    "    OUTPUTS\n",
    "    master_df: a dataframe of every event during experiment with demographic data\n",
    "    \"\"\"\n",
    "    \n",
    "    # merge transcript_df and profile_df on customer id\n",
    "    df = pd.merge(profile_df, transcript_df, how='left', left_on='id', right_on='person')\n",
    "    \n",
    "    # drop 'id' column because this is the same as the 'person' column\n",
    "    df.drop(columns=['id'], inplace=True)\n",
    "    \n",
    "    # merge above df with portfolio_df to include information about offers\n",
    "    merged_df = pd.merge(df, portfolio_df, how='left', left_on='offer_id', right_on='id')\n",
    "    \n",
    "    # drop reward_x column, as we only need the reward in the offer_received events and drop 'id' and 'offer_id' as we have the readable_id' now.\n",
    "    merged_df.drop(columns=['reward_x', 'id', 'offer_id'], inplace=True)\n",
    "    \n",
    "    merged_df = merged_df[['person', 'gender', 'age', 'became_member_on', 'income', 'year_joined', 'age_group', 'income_group', 'event', 'time', 'transaction_amt',\n",
    "                          'readable_id', 'difficulty', 'reward_y', 'duration', 'email', 'mobile', 'social', 'web', 'bogo', 'discount', 'informational']]\n",
    "    \n",
    "    merged_df.rename(columns={'reward_y':'reward'})\n",
    "    \n",
    "    return merged_df\n",
    "    \n",
    "create_merged_df()"
   ]
  },
  {
   "cell_type": "code",
   "execution_count": 38,
   "metadata": {},
   "outputs": [],
   "source": [
    "merged_df = create_merged_df()"
   ]
  },
  {
   "cell_type": "code",
   "execution_count": 39,
   "metadata": {},
   "outputs": [],
   "source": [
    "person = merged_df.loc[merged_df['person'] == '0610b486422d4921ae7d2bf64640c50b']"
   ]
  },
  {
   "cell_type": "code",
   "execution_count": 40,
   "metadata": {},
   "outputs": [
    {
     "name": "stdout",
     "output_type": "stream",
     "text": [
      "time: 18\n",
      "0\n",
      "time: 144\n",
      "1\n",
      "time: 408\n",
      "2\n",
      "time: 504\n",
      "3\n",
      "time: 528\n",
      "4\n",
      "time: 528\n",
      "5\n"
     ]
    }
   ],
   "source": [
    "for row in person.itertuples():\n",
    "    print('time:', row.time)\n",
    "    print(row.Index)"
   ]
  },
  {
   "cell_type": "code",
   "execution_count": 44,
   "metadata": {},
   "outputs": [],
   "source": [
    "# will take a while to run\n",
    "def group_transactions_by_offer(df = merged_df):\n",
    "    \"\"\"\n",
    "    This function loops through the customers and does 4 things for each\n",
    "    'offer received' event: \n",
    "    \n",
    "    Let the \"offer window\" be defined as the time an offer was received\n",
    "    to the \"offer_valid_until\" time. \n",
    "    \n",
    "    1. Sums up all their transactions that were between the offer window\n",
    "       and stores value in 'amt_spent_under_offer' column.\n",
    "    2. Determines if a received offer was viewed and stores a 1 in the \n",
    "       column \"offer_viewed\" if so. A received offer was viewed if \n",
    "       there is an \"offer viewed\" event in the offer window AND it has\n",
    "       the same readable_id.  \n",
    "    3. Determines if a received offer was completed and stores a 1 in \n",
    "       the column \"offer_completed\" if so. A received offer was \n",
    "       completed if there was an \"offer completed\" event in the offer\n",
    "       window AND the received offer was not informational.\n",
    "    4. Creates a column \"offer_successful\" and places a 1 if the offer\n",
    "       was both viewed AND completed.\n",
    "       \n",
    "    Lastly, it subsets only the offer received events, as they now contain\n",
    "    all the information we need. \n",
    "    \n",
    "    \"\"\"\n",
    "    df['amt_spent_under_offer'] = 0\n",
    "    df['offer_completed'] = 0\n",
    "    df['offer_viewed'] = 0\n",
    "    df['offer_valid_until'] = np.nan\n",
    "    df.loc[df['event'] == 'offer received', 'offer_valid_until'] = (df.loc[df['event'] == 'offer received', 'time'] \n",
    "                                                                                  + df.loc[df['event'] == 'offer received', 'duration'] * 24)\n",
    "    \n",
    "\n",
    "    for person in tqdm(df['person'].unique(), desc='Progress'):\n",
    "        # Create a dataframe of only 1 person's events\n",
    "        customer_data = df.loc[df['person'] == person]\n",
    "        \n",
    "        # Create a dataframe of only offer received events\n",
    "        customer_offers = customer_data.loc[customer_data['event'] == 'offer received']\n",
    "        \n",
    "        customer_viewed_offers = customer_data.loc[customer_data['event'] == 'offer viewed']\n",
    "        \n",
    "        customer_completed_offers = customer_data.loc[customer_data['event'] == 'offer completed']\n",
    "              \n",
    "        for offer in customer_offers.itertuples():\n",
    "            \n",
    "            idx = offer.Index\n",
    "            offer_start = offer.time \n",
    "            offer_end = offer.offer_valid_until\n",
    "            offer_id = offer.readable_id\n",
    "            \n",
    "            amt_spent = customer_data.loc[(customer_data['time'].between(offer_start, offer_end))\n",
    "                                          & (customer_data['event'] == 'transaction'), 'transaction_amt'].sum()\n",
    "            \n",
    "            df.at[idx, 'amt_spent_under_offer'] = amt_spent\n",
    "            \n",
    "            for view in customer_viewed_offers.itertuples(index=False):\n",
    "                if offer_start <= view.time and view.time <= offer_end and view.readable_id == offer_id:\n",
    "                    df.at[idx, 'offer_viewed'] = 1\n",
    "                    break\n",
    "                    \n",
    "            for completed in customer_completed_offers.itertuples(index=False):\n",
    "                if offer_start <= completed.time and completed.time <= offer_end and offer.informational ==  0:\n",
    "                    df.at[idx, 'offer_completed'] = 1\n",
    "                    break\n",
    "\n",
    "                    \n",
    "    master_df = df.loc[df['event'] == 'offer received']\n",
    "       \n",
    "    master_df['offer_successful'] = ((master_df['offer_completed'] + master_df['offer_viewed']) == 2).astype(int)\n",
    "                    \n",
    "    return master_df\n",
    "\n"
   ]
  },
  {
   "cell_type": "code",
   "execution_count": 45,
   "metadata": {},
   "outputs": [
    {
     "name": "stderr",
     "output_type": "stream",
     "text": [
      "Progress: 100%|██████████| 14825/14825 [22:48<00:00, 10.84it/s]\n",
      "/Users/jordannishimura/opt/anaconda3/lib/python3.7/site-packages/pandas/core/indexing.py:205: SettingWithCopyWarning: \n",
      "A value is trying to be set on a copy of a slice from a DataFrame\n",
      "\n",
      "See the caveats in the documentation: http://pandas.pydata.org/pandas-docs/stable/user_guide/indexing.html#returning-a-view-versus-a-copy\n",
      "  self._setitem_with_indexer(indexer, value)\n"
     ]
    }
   ],
   "source": [
    "master_df = group_transactions_by_offer()"
   ]
  },
  {
   "cell_type": "code",
   "execution_count": 46,
   "metadata": {},
   "outputs": [],
   "source": [
    "master_df.to_csv('master_df.csv', index=False)"
   ]
  },
  {
   "cell_type": "code",
   "execution_count": 51,
   "metadata": {},
   "outputs": [
    {
     "name": "stderr",
     "output_type": "stream",
     "text": [
      "/Users/jordannishimura/opt/anaconda3/lib/python3.7/site-packages/ipykernel_launcher.py:1: SettingWithCopyWarning: \n",
      "A value is trying to be set on a copy of a slice from a DataFrame.\n",
      "Try using .loc[row_indexer,col_indexer] = value instead\n",
      "\n",
      "See the caveats in the documentation: http://pandas.pydata.org/pandas-docs/stable/user_guide/indexing.html#returning-a-view-versus-a-copy\n",
      "  \"\"\"Entry point for launching an IPython kernel.\n"
     ]
    }
   ],
   "source": [
    "master_df['offer_successful'] = ((master_df['offer_completed'] + master_df['offer_viewed']) == 2).astype(int)"
   ]
  },
  {
   "cell_type": "code",
   "execution_count": 52,
   "metadata": {},
   "outputs": [
    {
     "name": "stdout",
     "output_type": "stream",
     "text": [
      "num_offers_received:  66501\n",
      "num_offers_viewed:  49126.0\n",
      "num_offers_completed:  33462.0\n",
      "num_offers_successful:  27456\n"
     ]
    }
   ],
   "source": [
    "num_offers_received = master_df.loc[master_df['event'] == 'offer received'].shape[0]\n",
    "num_offers_viewed = master_df['offer_viewed'].sum()\n",
    "\n",
    "# completed offers may have been viewed or not\n",
    "num_offers_completed = master_df['offer_completed'].sum()\n",
    "\n",
    "# A successful offer is one that was viewed and completed\n",
    "num_offers_successful = master_df['offer_successful'].sum()\n",
    "\n",
    "print('num_offers_received: ', num_offers_received)\n",
    "print('num_offers_viewed: ', num_offers_viewed)\n",
    "print('num_offers_completed: ', num_offers_completed)\n",
    "print('num_offers_successful: ', num_offers_successful)"
   ]
  },
  {
   "cell_type": "code",
   "execution_count": null,
   "metadata": {},
   "outputs": [],
   "source": [
    "master_df['offer_successful'] = (master_df['offer_completed'] + master_df['offer_viewed'] == 2).astype(int)\n",
    "master_df"
   ]
  },
  {
   "cell_type": "markdown",
   "metadata": {},
   "source": [
    "## IV. Evaluate the Results"
   ]
  },
  {
   "cell_type": "markdown",
   "metadata": {},
   "source": [
    "#### 1. Which age groups, genders, and income groups are most likely to successfully complete each offer?\n"
   ]
  },
  {
   "cell_type": "code",
   "execution_count": null,
   "metadata": {},
   "outputs": [],
   "source": [
    "success_rate_by_age = bogo_disc_offers.groupby(['age_group', 'readable_id'])['offer_successful'].mean().reset_index()\n",
    "\n",
    "avg_success_rate = bogo_disc_offers['offer_successful'].mean()\n",
    "\n",
    "\n",
    "fig, ax = plt.subplots(figsize=(20,12))\n",
    "sns.barplot(data = success_rate_by_age, x='age_group', y='offer_successful', hue='readable_id', ax=ax, palette='deep')\n",
    "ax.set_ylabel('Success Rate')\n",
    "ax.set_xlabel('Age Group')\n",
    "ax.set_title('Offer Success Rate by Age Group')\n",
    "\n",
    "ax.axhline(avg_success_rate, color='red', linewidth=1.5)\n",
    "\n",
    "plt.legend(loc=(0.02,0.85))\n"
   ]
  },
  {
   "cell_type": "markdown",
   "metadata": {},
   "source": [
    "Across all age groups, the two offers with the highest success rate are the discount offers \\\\$10/\\\\$2 that is valid 10 days and the \\\\$7/\\\\$3 that lasts 7 days. \n",
    "The two offers with the lowest success rate are the remaining two discount offers (\\\\$20/\\\\$5 - 10days and \\\\$10/\\\\$2 - 7days).\n",
    "\n",
    "\n",
    "Among BOGO offers, the highest completed is the \\\\$5 5day offer. The lowest success rate is for offer \\\\$5 7day offer.\n"
   ]
  },
  {
   "cell_type": "code",
   "execution_count": null,
   "metadata": {},
   "outputs": [],
   "source": [
    "success_rate_by_gender = bogo_disc_offers.groupby(['gender', 'readable_id'])['offer_successful'].mean().reset_index()\n",
    "\n",
    "avg_success_rate = bogo_disc_offers['offer_successful'].mean()\n",
    "\n",
    "\n",
    "fig, ax = plt.subplots(figsize=(20,12))\n",
    "sns.barplot(data = success_rate_by_gender, x='gender', y='offer_successful', hue='readable_id', ax=ax, palette='deep')\n",
    "ax.set_ylabel('Success Rate')\n",
    "ax.set_xlabel('Gender')\n",
    "ax.set_title('Offer Success Rate by Gender')\n",
    "\n",
    "ax.axhline(avg_success_rate, color='red', linewidth=1.5)\n",
    "\n",
    "plt.legend(loc=(0.02,0.85))\n"
   ]
  },
  {
   "cell_type": "code",
   "execution_count": null,
   "metadata": {},
   "outputs": [],
   "source": []
  },
  {
   "cell_type": "code",
   "execution_count": null,
   "metadata": {},
   "outputs": [],
   "source": [
    "success_rate_by_income = bogo_disc_offers.groupby(['income_group', 'readable_id'])['offer_successful'].mean().reset_index()\n",
    "\n",
    "avg_success_rate = bogo_disc_offers['offer_successful'].mean()\n",
    "\n",
    "\n",
    "fig, ax = plt.subplots(figsize=(20,12))\n",
    "sns.barplot(data = success_rate_by_income, x='income_group', y='offer_successful', hue='readable_id', ax=ax, palette='deep')\n",
    "ax.set_ylabel('Success Rate')\n",
    "ax.set_xlabel('Income Group')\n",
    "ax.set_title('Offer Success Rate by Income Group')\n",
    "\n",
    "ax.axhline(avg_success_rate, color='red', linewidth=1.5)\n",
    "\n",
    "plt.legend(loc=(0.02,0.85))\n"
   ]
  },
  {
   "cell_type": "code",
   "execution_count": null,
   "metadata": {},
   "outputs": [],
   "source": [
    "bogo_disc_offers.groupby(['readable_id', 'income_group', 'age_group'])['offer_successful'].mean().reset_index().sort_values('offer_successful', ascending=False)\n"
   ]
  },
  {
   "cell_type": "code",
   "execution_count": null,
   "metadata": {},
   "outputs": [],
   "source": [
    "bogo_disc_offers.groupby(['readable_id', 'income_group', 'gender'])['offer_successful'].mean().reset_index().sort_values('offer_successful', ascending=False)"
   ]
  },
  {
   "cell_type": "code",
   "execution_count": null,
   "metadata": {},
   "outputs": [],
   "source": [
    "bogo_disc_offers.groupby(['readable_id', 'age_group', 'gender'])['offer_successful'].mean().reset_index().sort_values('offer_successful', ascending=False)"
   ]
  },
  {
   "cell_type": "code",
   "execution_count": null,
   "metadata": {},
   "outputs": [],
   "source": [
    "bogo_disc_offers.loc[bogo_disc_offers['gender']!='O'].groupby(['readable_id', 'income_group', 'age_group', 'gender'])['offer_successful'].mean().reset_index().sort_values('offer_successful', ascending=False).head(30)"
   ]
  },
  {
   "cell_type": "markdown",
   "metadata": {},
   "source": [
    "#### 2. Under which offer type (BOGO, DISCOUNT, INFORMATIONAL) do customers spend the most?\n"
   ]
  },
  {
   "cell_type": "code",
   "execution_count": null,
   "metadata": {},
   "outputs": [],
   "source": [
    "bogo_offers = master_df.loc[master_df['bogo'] == 1]\n",
    "\n",
    "discount_offers = master_df.loc[master_df['discount'] == 1]\n",
    "\n",
    "info_offers = master_df.loc[master_df['informational'] == 1]\n"
   ]
  },
  {
   "cell_type": "code",
   "execution_count": null,
   "metadata": {},
   "outputs": [],
   "source": [
    "avg_bogo_spending = bogo_offers['amt_spent_under_offer'].mean()\n",
    "avg_discount_spending = discount_offers['amt_spent_under_offer'].mean()\n",
    "avg_info_spending = info_offers['amt_spent_under_offer'].mean()\n",
    "\n",
    "print('Average Spending Under BOGO offers: ', avg_bogo_spending)\n",
    "print('Average Spending Under discount offers: ', avg_discount_spending)\n",
    "print('Average Spending Under information offers: ', avg_info_spending)"
   ]
  },
  {
   "cell_type": "markdown",
   "metadata": {},
   "source": [
    "Overall it appears that among all the offers, the most money is spent under discount offers. \n"
   ]
  },
  {
   "cell_type": "code",
   "execution_count": 1,
   "metadata": {},
   "outputs": [
    {
     "ename": "NameError",
     "evalue": "name 'master_df' is not defined",
     "output_type": "error",
     "traceback": [
      "\u001b[0;31m---------------------------------------------------------------------------\u001b[0m",
      "\u001b[0;31mNameError\u001b[0m                                 Traceback (most recent call last)",
      "\u001b[0;32m<ipython-input-1-7746e1f1e37f>\u001b[0m in \u001b[0;36m<module>\u001b[0;34m\u001b[0m\n\u001b[0;32m----> 1\u001b[0;31m \u001b[0mmaster_df\u001b[0m\u001b[0;34m\u001b[0m\u001b[0;34m\u001b[0m\u001b[0m\n\u001b[0m",
      "\u001b[0;31mNameError\u001b[0m: name 'master_df' is not defined"
     ]
    }
   ],
   "source": [
    "master_df"
   ]
  },
  {
   "cell_type": "code",
   "execution_count": null,
   "metadata": {},
   "outputs": [],
   "source": []
  },
  {
   "cell_type": "code",
   "execution_count": null,
   "metadata": {},
   "outputs": [],
   "source": []
  },
  {
   "cell_type": "code",
   "execution_count": null,
   "metadata": {},
   "outputs": [],
   "source": []
  },
  {
   "cell_type": "code",
   "execution_count": null,
   "metadata": {},
   "outputs": [],
   "source": []
  },
  {
   "cell_type": "code",
   "execution_count": null,
   "metadata": {},
   "outputs": [],
   "source": []
  },
  {
   "cell_type": "markdown",
   "metadata": {},
   "source": [
    "#### 3. Does sending users more offers make them more likely to complete them?\n"
   ]
  },
  {
   "cell_type": "code",
   "execution_count": null,
   "metadata": {},
   "outputs": [],
   "source": []
  },
  {
   "cell_type": "code",
   "execution_count": null,
   "metadata": {},
   "outputs": [],
   "source": []
  },
  {
   "cell_type": "code",
   "execution_count": null,
   "metadata": {},
   "outputs": [],
   "source": []
  },
  {
   "cell_type": "code",
   "execution_count": null,
   "metadata": {},
   "outputs": [],
   "source": []
  },
  {
   "cell_type": "code",
   "execution_count": 457,
   "metadata": {},
   "outputs": [
    {
     "data": {
      "image/png": "[encoded data removed]",
      "text/plain": [
       "<Figure size 1800x864 with 8 Axes>"
      ]
     },
     "metadata": {},
     "output_type": "display_data"
    }
   ],
   "source": [
    "# Filter offers to only include BOGO and DISCOUNTs (informational offers have no difficulty and thus cannot be completed)\n",
    "bogo_disc_offers = master_df.loc[master_df['informational'] == 0]\n",
    "\n",
    "# Group by offer and age_group, and calculate the average success rate for each\n",
    "success_rate_by_age = bogo_disc_offers.groupby(['readable_id', 'age_group'])['offer_successful'].mean().reset_index()\n",
    "\n",
    "# Find the average success rate\n",
    "avg_success_rate = bogo_disc_offers['offer_completed'].mean()\n",
    "\n",
    "# Create a figure object\n",
    "fig = plt.figure(figsize=(25,12))\n",
    "\n",
    "# Loop through the unique offers\n",
    "for i, offer in enumerate(np.sort(bogo_disc_offers['readable_id'].unique())):\n",
    "    \n",
    "    # Add an axes on the subplot in the figure\n",
    "    ax = fig.add_subplot(2, 4, i+1, sharey=ax)\n",
    "    \n",
    "    # Select only current offer\n",
    "    data = success_rate_by_age.loc[success_rate_by_age['readable_id'] == offer]\n",
    "    \n",
    "    # Set x and y values\n",
    "    x = data['age_group']\n",
    "    y = data['offer_successful']\n",
    "    \n",
    "    # Create bar chart\n",
    "    ax.bar(x, y)\n",
    "    \n",
    "    # Create x and y labels for only the first subplot\n",
    "    if i == 0:\n",
    "        ax.set_xlabel('Age Group')\n",
    "        ax.set_ylabel('Success Rate')\n",
    "    \n",
    "    ax.set_title(data['readable_id'].iloc[0], fontsize=15)\n",
    "    ax.tick_params(axis='x', rotation=45)\n",
    "    ax.axhline(avg_completion_rate, color='red', linewidth=2)\n",
    "\n",
    "fig.suptitle('Succses Rate by Age Group per Offer', fontsize=24)\n",
    "fig.tight_layout()\n",
    "\n",
    "\n",
    "\n"
   ]
  },
  {
   "cell_type": "code",
   "execution_count": 453,
   "metadata": {},
   "outputs": [
    {
     "data": {
      "text/html": [
       "<div>\n",
       "<style scoped>\n",
       "    .dataframe tbody tr th:only-of-type {\n",
       "        vertical-align: middle;\n",
       "    }\n",
       "\n",
       "    .dataframe tbody tr th {\n",
       "        vertical-align: top;\n",
       "    }\n",
       "\n",
       "    .dataframe thead th {\n",
       "        text-align: right;\n",
       "    }\n",
       "</style>\n",
       "<table border=\"1\" class=\"dataframe\">\n",
       "  <thead>\n",
       "    <tr style=\"text-align: right;\">\n",
       "      <th>age_group</th>\n",
       "      <th>18-24</th>\n",
       "      <th>25-34</th>\n",
       "      <th>35-44</th>\n",
       "      <th>45-54</th>\n",
       "      <th>55-64</th>\n",
       "      <th>65-74</th>\n",
       "      <th>75+</th>\n",
       "    </tr>\n",
       "    <tr>\n",
       "      <th>readable_id</th>\n",
       "      <th></th>\n",
       "      <th></th>\n",
       "      <th></th>\n",
       "      <th></th>\n",
       "      <th></th>\n",
       "      <th></th>\n",
       "      <th></th>\n",
       "    </tr>\n",
       "  </thead>\n",
       "  <tbody>\n",
       "    <tr>\n",
       "      <th>BOGO - $10 - 5days</th>\n",
       "      <td>0.324519</td>\n",
       "      <td>0.363492</td>\n",
       "      <td>0.495037</td>\n",
       "      <td>0.554135</td>\n",
       "      <td>0.547020</td>\n",
       "      <td>0.531703</td>\n",
       "      <td>0.578419</td>\n",
       "    </tr>\n",
       "    <tr>\n",
       "      <th>BOGO - $10 - 7days</th>\n",
       "      <td>0.408108</td>\n",
       "      <td>0.421875</td>\n",
       "      <td>0.519819</td>\n",
       "      <td>0.515891</td>\n",
       "      <td>0.548243</td>\n",
       "      <td>0.520510</td>\n",
       "      <td>0.580645</td>\n",
       "    </tr>\n",
       "    <tr>\n",
       "      <th>BOGO - $5 - 5days</th>\n",
       "      <td>0.493857</td>\n",
       "      <td>0.547297</td>\n",
       "      <td>0.567367</td>\n",
       "      <td>0.623037</td>\n",
       "      <td>0.642484</td>\n",
       "      <td>0.609621</td>\n",
       "      <td>0.658537</td>\n",
       "    </tr>\n",
       "    <tr>\n",
       "      <th>BOGO - $5 - 7days</th>\n",
       "      <td>0.246753</td>\n",
       "      <td>0.287113</td>\n",
       "      <td>0.425606</td>\n",
       "      <td>0.441389</td>\n",
       "      <td>0.399220</td>\n",
       "      <td>0.405258</td>\n",
       "      <td>0.421581</td>\n",
       "    </tr>\n",
       "    <tr>\n",
       "      <th>DISC - $7/$3 - 7days</th>\n",
       "      <td>0.644928</td>\n",
       "      <td>0.662316</td>\n",
       "      <td>0.718714</td>\n",
       "      <td>0.724843</td>\n",
       "      <td>0.720077</td>\n",
       "      <td>0.720930</td>\n",
       "      <td>0.745387</td>\n",
       "    </tr>\n",
       "    <tr>\n",
       "      <th>DISC - \\$10/\\$2 - 10days</th>\n",
       "      <td>0.606557</td>\n",
       "      <td>0.679104</td>\n",
       "      <td>0.738007</td>\n",
       "      <td>0.751908</td>\n",
       "      <td>0.765783</td>\n",
       "      <td>0.750000</td>\n",
       "      <td>0.766965</td>\n",
       "    </tr>\n",
       "    <tr>\n",
       "      <th>DISC - \\$10/\\$2 - 7days</th>\n",
       "      <td>0.226328</td>\n",
       "      <td>0.249600</td>\n",
       "      <td>0.438813</td>\n",
       "      <td>0.405667</td>\n",
       "      <td>0.431715</td>\n",
       "      <td>0.434584</td>\n",
       "      <td>0.403822</td>\n",
       "    </tr>\n",
       "    <tr>\n",
       "      <th>DISC - \\$20/\\$5 - 10days</th>\n",
       "      <td>0.137203</td>\n",
       "      <td>0.117175</td>\n",
       "      <td>0.253837</td>\n",
       "      <td>0.283005</td>\n",
       "      <td>0.288917</td>\n",
       "      <td>0.253235</td>\n",
       "      <td>0.279951</td>\n",
       "    </tr>\n",
       "    <tr>\n",
       "      <th>INFO - $0 - 3days</th>\n",
       "      <td>0.000000</td>\n",
       "      <td>0.000000</td>\n",
       "      <td>0.000000</td>\n",
       "      <td>0.000000</td>\n",
       "      <td>0.000000</td>\n",
       "      <td>0.000000</td>\n",
       "      <td>0.000000</td>\n",
       "    </tr>\n",
       "    <tr>\n",
       "      <th>INFO - $0 - 4days</th>\n",
       "      <td>0.000000</td>\n",
       "      <td>0.000000</td>\n",
       "      <td>0.000000</td>\n",
       "      <td>0.000000</td>\n",
       "      <td>0.000000</td>\n",
       "      <td>0.000000</td>\n",
       "      <td>0.000000</td>\n",
       "    </tr>\n",
       "  </tbody>\n",
       "</table>\n",
       "</div>"
      ],
      "text/plain": [
       "age_group                    18-24     25-34     35-44     45-54     55-64  \\\n",
       "readable_id                                                                  \n",
       "BOGO - $10 - 5days        0.324519  0.363492  0.495037  0.554135  0.547020   \n",
       "BOGO - $10 - 7days        0.408108  0.421875  0.519819  0.515891  0.548243   \n",
       "BOGO - $5 - 5days         0.493857  0.547297  0.567367  0.623037  0.642484   \n",
       "BOGO - $5 - 7days         0.246753  0.287113  0.425606  0.441389  0.399220   \n",
       "DISC - $7/$3 - 7days      0.644928  0.662316  0.718714  0.724843  0.720077   \n",
       "DISC - \\$10/\\$2 - 10days  0.606557  0.679104  0.738007  0.751908  0.765783   \n",
       "DISC - \\$10/\\$2 - 7days   0.226328  0.249600  0.438813  0.405667  0.431715   \n",
       "DISC - \\$20/\\$5 - 10days  0.137203  0.117175  0.253837  0.283005  0.288917   \n",
       "INFO - $0 - 3days         0.000000  0.000000  0.000000  0.000000  0.000000   \n",
       "INFO - $0 - 4days         0.000000  0.000000  0.000000  0.000000  0.000000   \n",
       "\n",
       "age_group                    65-74       75+  \n",
       "readable_id                                   \n",
       "BOGO - $10 - 5days        0.531703  0.578419  \n",
       "BOGO - $10 - 7days        0.520510  0.580645  \n",
       "BOGO - $5 - 5days         0.609621  0.658537  \n",
       "BOGO - $5 - 7days         0.405258  0.421581  \n",
       "DISC - $7/$3 - 7days      0.720930  0.745387  \n",
       "DISC - \\$10/\\$2 - 10days  0.750000  0.766965  \n",
       "DISC - \\$10/\\$2 - 7days   0.434584  0.403822  \n",
       "DISC - \\$20/\\$5 - 10days  0.253235  0.279951  \n",
       "INFO - $0 - 3days         0.000000  0.000000  \n",
       "INFO - $0 - 4days         0.000000  0.000000  "
      ]
     },
     "execution_count": 453,
     "metadata": {},
     "output_type": "execute_result"
    }
   ],
   "source": [
    "table = pd.pivot_table(master_df, index=['readable_id'], columns=['age_group'], values=['offer_successful'], aggfunc=np.mean)\n",
    "table.columns = table.columns.droplevel()\n",
    "table"
   ]
  },
  {
   "cell_type": "code",
   "execution_count": 418,
   "metadata": {},
   "outputs": [
    {
     "data": {
      "image/png": "[encoded data removed]",
      "text/plain": [
       "<Figure size 1800x864 with 8 Axes>"
      ]
     },
     "metadata": {},
     "output_type": "display_data"
    }
   ],
   "source": [
    "bogo_disc_offers = master_df.loc[master_df['informational'] == 0]\n",
    "completed_not_viewed = bogo_disc_offers.loc[(bogo_disc_offers['offer_completed'] == 1) & (bogo_disc_offers['offer_viewed'] == 0)]\n",
    "completed_not_viewed\n",
    "wasted_offer_rate_by_age = completed_not_viewed.groupby(['readable_id', 'age_group'])['offer_completed'].sum().reset_index()\n",
    "wasted_offer_rate_by_age['percent'] = wasted_offer_rate_by_age['offer_completed'] / bogo_disc_offers.groupby(['readable_id', 'age_group'])['offer_completed'].size().reset_index()['offer_completed']\n",
    "\n",
    "wasted_offer_rate_by_age\n",
    "\n",
    "fig = plt.figure(figsize=(25,12))\n",
    "\n",
    "for i, offer in enumerate(np.sort(bogo_disc_offers['readable_id'].unique())):\n",
    "    ax = fig.add_subplot(2, 4, i+1, sharey=ax)\n",
    "    data = wasted_offer_rate_by_age.loc[wasted_offer_rate_by_age['readable_id'] == offer]\n",
    "    x = data['age_group']\n",
    "    y = data['percent']\n",
    "    ax.bar(x, y)\n",
    "    \n",
    "    if i == 0:\n",
    "        ax.set_xlabel('Age Group')\n",
    "        ax.set_ylabel('Percentage')\n",
    "    \n",
    "    ax.set_title(data['readable_id'].iloc[0], fontsize=15)\n",
    "    ax.tick_params(axis='x', rotation=45)\n",
    "\n",
    "fig.suptitle('Rate of Wasted Offers', fontsize=24)\n",
    "fig.tight_layout()"
   ]
  },
  {
   "cell_type": "markdown",
   "metadata": {},
   "source": [
    "Takeaways:\n",
    "\n",
    "1. It appears across all 8 offers, the 75+ demographic has the highest completion rates. \n",
    "2. The one exception is for the \\\\$5 and \\\\$10 BOGO offers that last 7 days, the 55-64 demographic are about equal to the 75+. \n",
    "3. The younger demographics (18-24 and 25-45) complete all the offers at lowest rates.\n",
    "4. Overall, the older the customers are, the more likely they are to complete offers. "
   ]
  },
  {
   "cell_type": "code",
   "execution_count": 461,
   "metadata": {},
   "outputs": [
    {
     "data": {
      "image/png": "[encoded data removed]",
      "text/plain": [
       "<Figure size 1800x864 with 8 Axes>"
      ]
     },
     "metadata": {},
     "output_type": "display_data"
    }
   ],
   "source": [
    "success_rate_by_gender = bogo_disc_offers.groupby(['readable_id', 'gender'])['offer_successful'].mean().reset_index()\n",
    "avg_success_rate = bogo_disc_offers['offer_successful'].mean()\n",
    "\n",
    "fig = plt.figure(figsize=(25,12))\n",
    "\n",
    "for i, offer in enumerate(np.sort(bogo_disc_offers['readable_id'].unique())):\n",
    "    ax = fig.add_subplot(2, 4, i+1, sharey=ax)\n",
    "    data = success_rate_by_gender.loc[success_rate_by_gender['readable_id'] == offer]\n",
    "    x = data['gender']\n",
    "    y = data['offer_successful']\n",
    "    ax.bar(x, y)\n",
    "    \n",
    "    if i == 0:\n",
    "        ax.set_xlabel('Gender')\n",
    "        ax.set_ylabel('Offer Completion Rate')\n",
    "    \n",
    "    ax.set_title(data['readable_id'].iloc[0])\n",
    "    ax.axhline(avg_success_rate, color='red', linewidth=2)\n",
    "\n",
    "fig.suptitle('Offer Success Rate by Gender', fontsize=24)\n",
    "fig.tight_layout()"
   ]
  },
  {
   "cell_type": "markdown",
   "metadata": {},
   "source": [
    "Across all offers, female customers have higher completion rates than male customers. In the BOGO\\\\$5 5 day and 7 day offer and the DISCOUNT \\\\$10/\\\\$2 and \\\\$20/\\\\$5 customers with gender O have highest rates of successful offers. It's important to note that gender O customers make up about 1\\% of the customers in the experiment. so the sample size for those subsets are low. The \\\\$7/\\\\$3 off and \\\\$10/\\\\$2 off had particularly high rates of completion around 80% for female customers and just under 70% for male customers.\n"
   ]
  },
  {
   "cell_type": "code",
   "execution_count": 464,
   "metadata": {},
   "outputs": [
    {
     "data": {
      "image/png": "[encoded data removed]",
      "text/plain": [
       "<Figure size 1800x864 with 8 Axes>"
      ]
     },
     "metadata": {},
     "output_type": "display_data"
    }
   ],
   "source": [
    "success_rate_by_income = bogo_disc_offers.groupby(['readable_id', 'income_group'])['offer_successful'].mean().reset_index()\n",
    "avg_success_rate = bogo_disc_offers['offer_successful'].mean()\n",
    "mapping = {'105k+':5, '90-105k':4, '60-75k':2, '45-60k':1, '30-45k':0, '75-90k':3,}\n",
    "\n",
    "fig = plt.figure(figsize=(25,12))\n",
    "\n",
    "for i, offer in enumerate(np.sort(bogo_disc_offers['readable_id'].unique())):\n",
    "    ax = fig.add_subplot(2, 4, i+1, sharey=ax)\n",
    "    data = success_rate_by_income.loc[success_rate_by_income['readable_id'] == offer]\n",
    "    key = data['income_group'].map(mapping)\n",
    "\n",
    "    x = data['income_group'].iloc[key.argsort()]\n",
    "    y = data['offer_successful'].iloc[key.argsort()]\n",
    "    \n",
    "    ax.bar(x, y)\n",
    "    \n",
    "    if i == 0:\n",
    "        ax.set_xlabel('Income Group')\n",
    "        ax.set_ylabel('Offer Success Rate')\n",
    "    \n",
    "    ax.set_title(data['readable_id'].iloc[0])\n",
    "    ax.axhline(avg_success_rate, color='red', linewidth=2)\n",
    "\n",
    "fig.suptitle('Offer Success Rate by Income Group', fontsize=24)\n",
    "fig.tight_layout()"
   ]
  },
  {
   "cell_type": "markdown",
   "metadata": {},
   "source": [
    "In 5 offers (BOGO \\\\$10 - 5 days, BOGO \\\\$10 - 7 days, BOGO \\\\$5 - 5days, discount \\\\$7/\\\\$3 - 7days and discount \\\\$10/\\\\$2 - 10days), customers with higher income had higher rates of successful offers. In BOGO \\\\$5 - 7days, DISCOUNT \\\\$10/\\\\$2 - 7 days and DISCOUNT \\\\$20/\\\\$5 - 10 days, rates of successful completions rise until 75-90k, and then starts to decrease. "
   ]
  },
  {
   "cell_type": "code",
   "execution_count": null,
   "metadata": {},
   "outputs": [],
   "source": []
  },
  {
   "cell_type": "code",
   "execution_count": null,
   "metadata": {},
   "outputs": [],
   "source": []
  },
  {
   "cell_type": "markdown",
   "metadata": {},
   "source": []
  },
  {
   "cell_type": "code",
   "execution_count": 273,
   "metadata": {},
   "outputs": [
    {
     "data": {
      "text/plain": [
       "nan"
      ]
     },
     "execution_count": 273,
     "metadata": {},
     "output_type": "execute_result"
    }
   ],
   "source": [
    "master_df.loc[master_df['bogo'] == 1, 'transactions_under_offer'].mean()"
   ]
  },
  {
   "cell_type": "code",
   "execution_count": null,
   "metadata": {},
   "outputs": [],
   "source": []
  },
  {
   "cell_type": "code",
   "execution_count": null,
   "metadata": {},
   "outputs": [],
   "source": []
  },
  {
   "cell_type": "code",
   "execution_count": null,
   "metadata": {},
   "outputs": [],
   "source": []
  },
  {
   "cell_type": "code",
   "execution_count": null,
   "metadata": {},
   "outputs": [],
   "source": []
  },
  {
   "cell_type": "code",
   "execution_count": null,
   "metadata": {},
   "outputs": [],
   "source": []
  },
  {
   "cell_type": "markdown",
   "metadata": {},
   "source": []
  },
  {
   "cell_type": "code",
   "execution_count": null,
   "metadata": {},
   "outputs": [],
   "source": []
  },
  {
   "cell_type": "code",
   "execution_count": null,
   "metadata": {},
   "outputs": [],
   "source": []
  },
  {
   "cell_type": "code",
   "execution_count": null,
   "metadata": {},
   "outputs": [],
   "source": []
  },
  {
   "cell_type": "code",
   "execution_count": null,
   "metadata": {},
   "outputs": [],
   "source": []
  },
  {
   "cell_type": "code",
   "execution_count": null,
   "metadata": {},
   "outputs": [],
   "source": []
  },
  {
   "cell_type": "code",
   "execution_count": null,
   "metadata": {},
   "outputs": [],
   "source": [
    "Create a machine learning model that will predict how much a user with certain demographics will spend after receiving a given offer_type."
   ]
  },
  {
   "cell_type": "code",
   "execution_count": null,
   "metadata": {},
   "outputs": [],
   "source": []
  },
  {
   "cell_type": "code",
   "execution_count": null,
   "metadata": {},
   "outputs": [],
   "source": []
  },
  {
   "cell_type": "code",
   "execution_count": 205,
   "metadata": {},
   "outputs": [
    {
     "data": {
      "text/plain": [
       "<AxesSubplot:xlabel='readable_id'>"
      ]
     },
     "execution_count": 205,
     "metadata": {},
     "output_type": "execute_result"
    },
    {
     "data": {
      "image/png": "[encoded data removed]",
      "text/plain": [
       "<Figure size 432x288 with 1 Axes>"
      ]
     },
     "metadata": {},
     "output_type": "display_data"
    }
   ],
   "source": [
    "final_master_df.groupby(['readable_id'])['amt_spent_under_offer'].mean().plot.bar()"
   ]
  },
  {
   "cell_type": "code",
   "execution_count": null,
   "metadata": {},
   "outputs": [],
   "source": [
    "final_master_df.grou"
   ]
  },
  {
   "cell_type": "code",
   "execution_count": 473,
   "metadata": {},
   "outputs": [],
   "source": [
    "plt.style.use('fivethirtyeight')"
   ]
  },
  {
   "cell_type": "code",
   "execution_count": 481,
   "metadata": {},
   "outputs": [
    {
     "name": "stderr",
     "output_type": "stream",
     "text": [
      "C:\\Users\\Jordan Nishimura\\Anaconda3\\lib\\site-packages\\numpy\\lib\\histograms.py:824: RuntimeWarning: invalid value encountered in greater_equal\n",
      "  keep = (tmp_a >= first_edge)\n",
      "C:\\Users\\Jordan Nishimura\\Anaconda3\\lib\\site-packages\\numpy\\lib\\histograms.py:825: RuntimeWarning: invalid value encountered in less_equal\n",
      "  keep &= (tmp_a <= last_edge)\n"
     ]
    },
    {
     "data": {
      "text/plain": [
       "Text(0, 0.5, 'Num Customers')"
      ]
     },
     "execution_count": 481,
     "metadata": {},
     "output_type": "execute_result"
    },
    {
     "data": {
      "image/png": "[encoded data removed]",
      "text/plain": [
       "<Figure size 864x576 with 1 Axes>"
      ]
     },
     "metadata": {},
     "output_type": "display_data"
    }
   ],
   "source": [
    "fig, ax = plt.subplots(figsize=(12,8));\n",
    "x = profile['age'];\n",
    "ax.hist(x, bins=12, range=(0,120), align='mid', alpha=0.8);\n",
    "ax.set_xticks(range(0,121,10))\n",
    "ax.set_title('Age Histogram')\n",
    "ax.set_xlabel('Age')\n",
    "ax.set_ylabel('Num Customers')"
   ]
  },
  {
   "cell_type": "code",
   "execution_count": 475,
   "metadata": {},
   "outputs": [
    {
     "data": {
      "text/plain": [
       "['30k', '40k', '50k', '60k', '70k', '80k', '90k', '100k', '110k', '120k']"
      ]
     },
     "execution_count": 475,
     "metadata": {},
     "output_type": "execute_result"
    }
   ],
   "source": [
    "[str(x)[:-5] + 'k' for x in np.linspace(30000, 120000, 10)]\n",
    "\n"
   ]
  },
  {
   "cell_type": "code",
   "execution_count": 482,
   "metadata": {},
   "outputs": [
    {
     "data": {
      "text/plain": [
       "Text(0, 0.5, 'Num Customers')"
      ]
     },
     "execution_count": 482,
     "metadata": {},
     "output_type": "execute_result"
    },
    {
     "data": {
      "image/png": "[encoded data removed]",
      "text/plain": [
       "<Figure size 864x576 with 1 Axes>"
      ]
     },
     "metadata": {},
     "output_type": "display_data"
    }
   ],
   "source": [
    "fig, ax = plt.subplots(figsize=(12,8));\n",
    "x = profile['income'];\n",
    "ax.hist(x, bins=9, range=(30000,120001), align='mid', alpha=0.8);\n",
    "ax.set_xticks(np.linspace(30000, 120000, 10))\n",
    "ax.set_xticklabels([str(x)[:-5] + 'k' for x in np.linspace(30000, 120000, 10)])\n",
    "ax.set_title('Income Histogram')\n",
    "ax.set_xlabel('Income')\n",
    "ax.set_ylabel('Num Customers')\n"
   ]
  },
  {
   "cell_type": "code",
   "execution_count": 477,
   "metadata": {},
   "outputs": [
    {
     "data": {
      "text/plain": [
       "[Text(0, 0.0, '0%'),\n",
       " Text(0, 0.09999999999999999, '10%'),\n",
       " Text(0, 0.19999999999999998, '20%'),\n",
       " Text(0, 0.3, '30%'),\n",
       " Text(0, 0.39999999999999997, '40%'),\n",
       " Text(0, 0.49999999999999994, '50%'),\n",
       " Text(0, 0.6, '60%')]"
      ]
     },
     "execution_count": 477,
     "metadata": {},
     "output_type": "execute_result"
    },
    {
     "data": {
      "image/png": "[encoded data removed]",
      "text/plain": [
       "<Figure size 864x576 with 1 Axes>"
      ]
     },
     "metadata": {},
     "output_type": "display_data"
    }
   ],
   "source": [
    "fig, ax = plt.subplots(figsize=(12,8))\n",
    "\n",
    "data = df['gender'].value_counts(normalize=True).reset_index()\n",
    "x = data['index'].tolist()\n",
    "height = data['gender']\n",
    "\n",
    "ax.bar(x=data['index'].tolist(), height=data['gender'].tolist())\n",
    "ax.set_title('Gender')\n",
    "ax.set_xlabel('Gender')\n",
    "ax.set_ylabel('Num Customers')\n",
    "ax.set_yticks(np.linspace(0,0.6,7))\n",
    "ax.set_yticklabels(\"{:.0f}%\".format(x) for x in np.linspace(0, 60, 7))"
   ]
  },
  {
   "cell_type": "code",
   "execution_count": 478,
   "metadata": {},
   "outputs": [
    {
     "name": "stdout",
     "output_type": "stream",
     "text": [
      "The median age is 55.0. The mean age is 53.8.\n",
      "The median income is 62000.0. The mean income is 64337.0.\n"
     ]
    }
   ],
   "source": [
    "med_age = df['age'].median()\n",
    "mean_age = df['age'].mean()\n",
    "\n",
    "med_income = df['income'].median()\n",
    "mean_income = df['income'].mean()\n",
    "\n",
    "print(\"The median age is {}. The mean age is {:.1f}.\".format(med_age, mean_age))\n",
    "print(\"The median income is {}. The mean income is {:.1f}.\".format(med_income, mean_income))"
   ]
  },
  {
   "cell_type": "code",
   "execution_count": 479,
   "metadata": {},
   "outputs": [
    {
     "data": {
      "text/plain": [
       "M    0.570791\n",
       "F    0.414651\n",
       "O    0.014558\n",
       "Name: gender, dtype: float64"
      ]
     },
     "execution_count": 479,
     "metadata": {},
     "output_type": "execute_result"
    }
   ],
   "source": [
    "df['gender'].value_counts(normalize=True)"
   ]
  },
  {
   "cell_type": "markdown",
   "metadata": {},
   "source": [
    "### Takeaways\n",
    "The most common age group for starbucks customers is 50-59. The least common is 10-19 and 90-99. \n",
    "It appears they used 118 to mean the customers age is unknown, as there are 33772 instances of that age.\n",
    "\n",
    "The most common income group is 50k to 60k, and the least common is 100k and above. \n",
    "\n",
    "There are more male customers (57%) than female customers (41%)."
   ]
  },
  {
   "cell_type": "code",
   "execution_count": 69,
   "metadata": {},
   "outputs": [
    {
     "ename": "NameError",
     "evalue": "name 'df' is not defined",
     "output_type": "error",
     "traceback": [
      "\u001b[0;31m---------------------------------------------------------------------------\u001b[0m",
      "\u001b[0;31mNameError\u001b[0m                                 Traceback (most recent call last)",
      "\u001b[0;32m<ipython-input-69-52db25202926>\u001b[0m in \u001b[0;36m<module>\u001b[0;34m\u001b[0m\n\u001b[0;32m----> 1\u001b[0;31m \u001b[0mdf\u001b[0m\u001b[0;34m[\u001b[0m\u001b[0mdf\u001b[0m\u001b[0;34m[\u001b[0m\u001b[0;34m'transaction_amt'\u001b[0m\u001b[0;34m]\u001b[0m \u001b[0;34m>\u001b[0m \u001b[0;36m1000\u001b[0m\u001b[0;34m]\u001b[0m\u001b[0;34m\u001b[0m\u001b[0;34m\u001b[0m\u001b[0m\n\u001b[0m",
      "\u001b[0;31mNameError\u001b[0m: name 'df' is not defined"
     ]
    }
   ],
   "source": [
    "df[df['transaction_amt'] > 1000]"
   ]
  },
  {
   "cell_type": "code",
   "execution_count": 62,
   "metadata": {},
   "outputs": [
    {
     "ename": "NameError",
     "evalue": "name 'df' is not defined",
     "output_type": "error",
     "traceback": [
      "\u001b[0;31m---------------------------------------------------------------------------\u001b[0m",
      "\u001b[0;31mNameError\u001b[0m                                 Traceback (most recent call last)",
      "\u001b[0;32m<ipython-input-62-d6d3a8ab061c>\u001b[0m in \u001b[0;36m<module>\u001b[0;34m\u001b[0m\n\u001b[1;32m      1\u001b[0m \u001b[0mfig\u001b[0m\u001b[0;34m,\u001b[0m \u001b[0max\u001b[0m \u001b[0;34m=\u001b[0m \u001b[0mplt\u001b[0m\u001b[0;34m.\u001b[0m\u001b[0msubplots\u001b[0m\u001b[0;34m(\u001b[0m\u001b[0;34m)\u001b[0m\u001b[0;34m\u001b[0m\u001b[0;34m\u001b[0m\u001b[0m\n\u001b[1;32m      2\u001b[0m \u001b[0;34m\u001b[0m\u001b[0m\n\u001b[0;32m----> 3\u001b[0;31m \u001b[0max\u001b[0m\u001b[0;34m.\u001b[0m\u001b[0mhist\u001b[0m\u001b[0;34m(\u001b[0m\u001b[0mdf\u001b[0m\u001b[0;34m[\u001b[0m\u001b[0;34m'transaction_amt'\u001b[0m\u001b[0;34m]\u001b[0m\u001b[0;34m,\u001b[0m \u001b[0mrange\u001b[0m\u001b[0;34m=\u001b[0m\u001b[0;34m(\u001b[0m\u001b[0;36m0\u001b[0m\u001b[0;34m,\u001b[0m\u001b[0;36m50\u001b[0m\u001b[0;34m)\u001b[0m\u001b[0;34m)\u001b[0m\u001b[0;34m\u001b[0m\u001b[0;34m\u001b[0m\u001b[0m\n\u001b[0m\u001b[1;32m      4\u001b[0m \u001b[0;34m\u001b[0m\u001b[0m\n",
      "\u001b[0;31mNameError\u001b[0m: name 'df' is not defined"
     ]
    },
    {
     "data": {
      "image/png": "[encoded data removed]",
      "text/plain": [
       "<Figure size 432x288 with 1 Axes>"
      ]
     },
     "metadata": {
      "needs_background": "light"
     },
     "output_type": "display_data"
    }
   ],
   "source": [
    "fig, ax = plt.subplots()\n",
    "\n",
    "ax.hist(df['transaction_amt'], range=(0,50))\n",
    "        "
   ]
  },
  {
   "cell_type": "markdown",
   "metadata": {},
   "source": [
    "1. Frequency of transactions by gender, age, and income\n",
    "2. Average Transaction amount by gender, age, and income\n",
    "3. Total Spent in Experimeny by gender, age, and income"
   ]
  },
  {
   "cell_type": "code",
   "execution_count": 223,
   "metadata": {},
   "outputs": [
    {
     "data": {
      "text/html": [
       "<div>\n",
       "<style scoped>\n",
       "    .dataframe tbody tr th:only-of-type {\n",
       "        vertical-align: middle;\n",
       "    }\n",
       "\n",
       "    .dataframe tbody tr th {\n",
       "        vertical-align: top;\n",
       "    }\n",
       "\n",
       "    .dataframe thead th {\n",
       "        text-align: right;\n",
       "    }\n",
       "</style>\n",
       "<table border=\"1\" class=\"dataframe\">\n",
       "  <thead>\n",
       "    <tr style=\"text-align: right;\">\n",
       "      <th></th>\n",
       "      <th>person</th>\n",
       "      <th>event</th>\n",
       "      <th>time</th>\n",
       "      <th>age</th>\n",
       "      <th>became_member_on</th>\n",
       "      <th>income</th>\n",
       "      <th>transaction_amt</th>\n",
       "      <th>offer_id</th>\n",
       "      <th>reward_received</th>\n",
       "      <th>channels</th>\n",
       "      <th>difficulty</th>\n",
       "      <th>duration</th>\n",
       "      <th>email</th>\n",
       "      <th>mobile</th>\n",
       "      <th>social</th>\n",
       "      <th>web</th>\n",
       "      <th>gender_F</th>\n",
       "      <th>gender_M</th>\n",
       "      <th>gender_O</th>\n",
       "      <th>offer_type_bogo</th>\n",
       "      <th>offer_type_discount</th>\n",
       "      <th>offer_type_informational</th>\n",
       "    </tr>\n",
       "  </thead>\n",
       "  <tbody>\n",
       "    <tr>\n",
       "      <th>12654</th>\n",
       "      <td>02c083884c7d45b39cc68e1314fec56c</td>\n",
       "      <td>transaction</td>\n",
       "      <td>0</td>\n",
       "      <td>20</td>\n",
       "      <td>2016-07-11</td>\n",
       "      <td>30000.0</td>\n",
       "      <td>0.83</td>\n",
       "      <td>NaN</td>\n",
       "      <td>NaN</td>\n",
       "      <td>NaN</td>\n",
       "      <td>NaN</td>\n",
       "      <td>NaN</td>\n",
       "      <td>NaN</td>\n",
       "      <td>NaN</td>\n",
       "      <td>NaN</td>\n",
       "      <td>NaN</td>\n",
       "      <td>1</td>\n",
       "      <td>0</td>\n",
       "      <td>0</td>\n",
       "      <td>0</td>\n",
       "      <td>0</td>\n",
       "      <td>0</td>\n",
       "    </tr>\n",
       "    <tr>\n",
       "      <th>12657</th>\n",
       "      <td>9fa9ae8f57894cc9a3b8a9bbe0fc1b2f</td>\n",
       "      <td>transaction</td>\n",
       "      <td>0</td>\n",
       "      <td>42</td>\n",
       "      <td>2016-01-17</td>\n",
       "      <td>96000.0</td>\n",
       "      <td>34.56</td>\n",
       "      <td>NaN</td>\n",
       "      <td>NaN</td>\n",
       "      <td>NaN</td>\n",
       "      <td>NaN</td>\n",
       "      <td>NaN</td>\n",
       "      <td>NaN</td>\n",
       "      <td>NaN</td>\n",
       "      <td>NaN</td>\n",
       "      <td>NaN</td>\n",
       "      <td>0</td>\n",
       "      <td>1</td>\n",
       "      <td>0</td>\n",
       "      <td>0</td>\n",
       "      <td>0</td>\n",
       "      <td>0</td>\n",
       "    </tr>\n",
       "    <tr>\n",
       "      <th>12659</th>\n",
       "      <td>54890f68699049c2a04d415abc25e717</td>\n",
       "      <td>transaction</td>\n",
       "      <td>0</td>\n",
       "      <td>36</td>\n",
       "      <td>2017-12-28</td>\n",
       "      <td>56000.0</td>\n",
       "      <td>13.23</td>\n",
       "      <td>NaN</td>\n",
       "      <td>NaN</td>\n",
       "      <td>NaN</td>\n",
       "      <td>NaN</td>\n",
       "      <td>NaN</td>\n",
       "      <td>NaN</td>\n",
       "      <td>NaN</td>\n",
       "      <td>NaN</td>\n",
       "      <td>NaN</td>\n",
       "      <td>0</td>\n",
       "      <td>1</td>\n",
       "      <td>0</td>\n",
       "      <td>0</td>\n",
       "      <td>0</td>\n",
       "      <td>0</td>\n",
       "    </tr>\n",
       "    <tr>\n",
       "      <th>12670</th>\n",
       "      <td>b2f1cd155b864803ad8334cdf13c4bd2</td>\n",
       "      <td>transaction</td>\n",
       "      <td>0</td>\n",
       "      <td>55</td>\n",
       "      <td>2017-10-16</td>\n",
       "      <td>94000.0</td>\n",
       "      <td>19.51</td>\n",
       "      <td>NaN</td>\n",
       "      <td>NaN</td>\n",
       "      <td>NaN</td>\n",
       "      <td>NaN</td>\n",
       "      <td>NaN</td>\n",
       "      <td>NaN</td>\n",
       "      <td>NaN</td>\n",
       "      <td>NaN</td>\n",
       "      <td>NaN</td>\n",
       "      <td>1</td>\n",
       "      <td>0</td>\n",
       "      <td>0</td>\n",
       "      <td>0</td>\n",
       "      <td>0</td>\n",
       "      <td>0</td>\n",
       "    </tr>\n",
       "    <tr>\n",
       "      <th>12671</th>\n",
       "      <td>fe97aa22dd3e48c8b143116a8403dd52</td>\n",
       "      <td>transaction</td>\n",
       "      <td>0</td>\n",
       "      <td>39</td>\n",
       "      <td>2017-12-17</td>\n",
       "      <td>67000.0</td>\n",
       "      <td>18.97</td>\n",
       "      <td>NaN</td>\n",
       "      <td>NaN</td>\n",
       "      <td>NaN</td>\n",
       "      <td>NaN</td>\n",
       "      <td>NaN</td>\n",
       "      <td>NaN</td>\n",
       "      <td>NaN</td>\n",
       "      <td>NaN</td>\n",
       "      <td>NaN</td>\n",
       "      <td>1</td>\n",
       "      <td>0</td>\n",
       "      <td>0</td>\n",
       "      <td>0</td>\n",
       "      <td>0</td>\n",
       "      <td>0</td>\n",
       "    </tr>\n",
       "  </tbody>\n",
       "</table>\n",
       "</div>"
      ],
      "text/plain": [
       "                                 person        event  time  age  \\\n",
       "12654  02c083884c7d45b39cc68e1314fec56c  transaction     0   20   \n",
       "12657  9fa9ae8f57894cc9a3b8a9bbe0fc1b2f  transaction     0   42   \n",
       "12659  54890f68699049c2a04d415abc25e717  transaction     0   36   \n",
       "12670  b2f1cd155b864803ad8334cdf13c4bd2  transaction     0   55   \n",
       "12671  fe97aa22dd3e48c8b143116a8403dd52  transaction     0   39   \n",
       "\n",
       "      became_member_on   income  transaction_amt offer_id  reward_received  \\\n",
       "12654       2016-07-11  30000.0             0.83      NaN              NaN   \n",
       "12657       2016-01-17  96000.0            34.56      NaN              NaN   \n",
       "12659       2017-12-28  56000.0            13.23      NaN              NaN   \n",
       "12670       2017-10-16  94000.0            19.51      NaN              NaN   \n",
       "12671       2017-12-17  67000.0            18.97      NaN              NaN   \n",
       "\n",
       "      channels  difficulty  duration  email  mobile  social  web  gender_F  \\\n",
       "12654      NaN         NaN       NaN    NaN     NaN     NaN  NaN         1   \n",
       "12657      NaN         NaN       NaN    NaN     NaN     NaN  NaN         0   \n",
       "12659      NaN         NaN       NaN    NaN     NaN     NaN  NaN         0   \n",
       "12670      NaN         NaN       NaN    NaN     NaN     NaN  NaN         1   \n",
       "12671      NaN         NaN       NaN    NaN     NaN     NaN  NaN         1   \n",
       "\n",
       "       gender_M  gender_O  offer_type_bogo  offer_type_discount  \\\n",
       "12654         0         0                0                    0   \n",
       "12657         1         0                0                    0   \n",
       "12659         1         0                0                    0   \n",
       "12670         0         0                0                    0   \n",
       "12671         0         0                0                    0   \n",
       "\n",
       "       offer_type_informational  \n",
       "12654                         0  \n",
       "12657                         0  \n",
       "12659                         0  \n",
       "12670                         0  \n",
       "12671                         0  "
      ]
     },
     "execution_count": 223,
     "metadata": {},
     "output_type": "execute_result"
    }
   ],
   "source": [
    "transactions = df.loc[df['event'] == 'transaction']\n",
    "transactions.head()"
   ]
  },
  {
   "cell_type": "code",
   "execution_count": 264,
   "metadata": {},
   "outputs": [
    {
     "data": {
      "text/plain": [
       "<AxesSubplot:xlabel='age_group'>"
      ]
     },
     "execution_count": 264,
     "metadata": {},
     "output_type": "execute_result"
    },
    {
     "data": {
      "image/png": "[encoded data removed]",
      "text/plain": [
       "<Figure size 864x576 with 1 Axes>"
      ]
     },
     "metadata": {},
     "output_type": "display_data"
    }
   ],
   "source": [
    "transactions.groupby(['age_group'])['transaction_amt'].mean().plot.bar(figsize=(12,8))"
   ]
  },
  {
   "cell_type": "code",
   "execution_count": 273,
   "metadata": {},
   "outputs": [
    {
     "data": {
      "text/html": [
       "<div>\n",
       "<style scoped>\n",
       "    .dataframe tbody tr th:only-of-type {\n",
       "        vertical-align: middle;\n",
       "    }\n",
       "\n",
       "    .dataframe tbody tr th {\n",
       "        vertical-align: top;\n",
       "    }\n",
       "\n",
       "    .dataframe thead th {\n",
       "        text-align: right;\n",
       "    }\n",
       "</style>\n",
       "<table border=\"1\" class=\"dataframe\">\n",
       "  <thead>\n",
       "    <tr style=\"text-align: right;\">\n",
       "      <th></th>\n",
       "      <th>person</th>\n",
       "      <th>event</th>\n",
       "      <th>time</th>\n",
       "      <th>age</th>\n",
       "      <th>became_member_on</th>\n",
       "      <th>income</th>\n",
       "      <th>transaction_amt</th>\n",
       "      <th>offer_id</th>\n",
       "      <th>reward_received</th>\n",
       "      <th>channels</th>\n",
       "      <th>difficulty</th>\n",
       "      <th>duration</th>\n",
       "      <th>email</th>\n",
       "      <th>mobile</th>\n",
       "      <th>social</th>\n",
       "      <th>web</th>\n",
       "      <th>gender_F</th>\n",
       "      <th>gender_M</th>\n",
       "      <th>gender_O</th>\n",
       "      <th>offer_type_bogo</th>\n",
       "      <th>offer_type_discount</th>\n",
       "      <th>offer_type_informational</th>\n",
       "    </tr>\n",
       "  </thead>\n",
       "  <tbody>\n",
       "    <tr>\n",
       "      <th>19</th>\n",
       "      <td>1e9420836d554513ab90eba98552d0a9</td>\n",
       "      <td>offer received</td>\n",
       "      <td>0</td>\n",
       "      <td>22</td>\n",
       "      <td>2017-09-25</td>\n",
       "      <td>70000.0</td>\n",
       "      <td>NaN</td>\n",
       "      <td>ae264e3637204a6fb9bb56bc8210ddfd</td>\n",
       "      <td>NaN</td>\n",
       "      <td>[email, mobile, social]</td>\n",
       "      <td>10.0</td>\n",
       "      <td>7.0</td>\n",
       "      <td>1.0</td>\n",
       "      <td>1.0</td>\n",
       "      <td>1.0</td>\n",
       "      <td>0.0</td>\n",
       "      <td>0</td>\n",
       "      <td>1</td>\n",
       "      <td>0</td>\n",
       "      <td>1</td>\n",
       "      <td>0</td>\n",
       "      <td>0</td>\n",
       "    </tr>\n",
       "    <tr>\n",
       "      <th>40779</th>\n",
       "      <td>1e9420836d554513ab90eba98552d0a9</td>\n",
       "      <td>offer viewed</td>\n",
       "      <td>96</td>\n",
       "      <td>22</td>\n",
       "      <td>2017-09-25</td>\n",
       "      <td>70000.0</td>\n",
       "      <td>NaN</td>\n",
       "      <td>ae264e3637204a6fb9bb56bc8210ddfd</td>\n",
       "      <td>NaN</td>\n",
       "      <td>[email, mobile, social]</td>\n",
       "      <td>10.0</td>\n",
       "      <td>7.0</td>\n",
       "      <td>1.0</td>\n",
       "      <td>1.0</td>\n",
       "      <td>1.0</td>\n",
       "      <td>0.0</td>\n",
       "      <td>0</td>\n",
       "      <td>1</td>\n",
       "      <td>0</td>\n",
       "      <td>1</td>\n",
       "      <td>0</td>\n",
       "      <td>0</td>\n",
       "    </tr>\n",
       "    <tr>\n",
       "      <th>53196</th>\n",
       "      <td>1e9420836d554513ab90eba98552d0a9</td>\n",
       "      <td>offer received</td>\n",
       "      <td>168</td>\n",
       "      <td>22</td>\n",
       "      <td>2017-09-25</td>\n",
       "      <td>70000.0</td>\n",
       "      <td>NaN</td>\n",
       "      <td>4d5c57ea9a6940dd891ad53e9dbe8da0</td>\n",
       "      <td>NaN</td>\n",
       "      <td>[web, email, mobile, social]</td>\n",
       "      <td>10.0</td>\n",
       "      <td>5.0</td>\n",
       "      <td>1.0</td>\n",
       "      <td>1.0</td>\n",
       "      <td>1.0</td>\n",
       "      <td>1.0</td>\n",
       "      <td>0</td>\n",
       "      <td>1</td>\n",
       "      <td>0</td>\n",
       "      <td>1</td>\n",
       "      <td>0</td>\n",
       "      <td>0</td>\n",
       "    </tr>\n",
       "    <tr>\n",
       "      <th>69328</th>\n",
       "      <td>1e9420836d554513ab90eba98552d0a9</td>\n",
       "      <td>offer viewed</td>\n",
       "      <td>174</td>\n",
       "      <td>22</td>\n",
       "      <td>2017-09-25</td>\n",
       "      <td>70000.0</td>\n",
       "      <td>NaN</td>\n",
       "      <td>4d5c57ea9a6940dd891ad53e9dbe8da0</td>\n",
       "      <td>NaN</td>\n",
       "      <td>[web, email, mobile, social]</td>\n",
       "      <td>10.0</td>\n",
       "      <td>5.0</td>\n",
       "      <td>1.0</td>\n",
       "      <td>1.0</td>\n",
       "      <td>1.0</td>\n",
       "      <td>1.0</td>\n",
       "      <td>0</td>\n",
       "      <td>1</td>\n",
       "      <td>0</td>\n",
       "      <td>1</td>\n",
       "      <td>0</td>\n",
       "      <td>0</td>\n",
       "    </tr>\n",
       "    <tr>\n",
       "      <th>79426</th>\n",
       "      <td>1e9420836d554513ab90eba98552d0a9</td>\n",
       "      <td>transaction</td>\n",
       "      <td>198</td>\n",
       "      <td>22</td>\n",
       "      <td>2017-09-25</td>\n",
       "      <td>70000.0</td>\n",
       "      <td>17.11</td>\n",
       "      <td>NaN</td>\n",
       "      <td>NaN</td>\n",
       "      <td>NaN</td>\n",
       "      <td>NaN</td>\n",
       "      <td>NaN</td>\n",
       "      <td>NaN</td>\n",
       "      <td>NaN</td>\n",
       "      <td>NaN</td>\n",
       "      <td>NaN</td>\n",
       "      <td>0</td>\n",
       "      <td>1</td>\n",
       "      <td>0</td>\n",
       "      <td>0</td>\n",
       "      <td>0</td>\n",
       "      <td>0</td>\n",
       "    </tr>\n",
       "    <tr>\n",
       "      <th>...</th>\n",
       "      <td>...</td>\n",
       "      <td>...</td>\n",
       "      <td>...</td>\n",
       "      <td>...</td>\n",
       "      <td>...</td>\n",
       "      <td>...</td>\n",
       "      <td>...</td>\n",
       "      <td>...</td>\n",
       "      <td>...</td>\n",
       "      <td>...</td>\n",
       "      <td>...</td>\n",
       "      <td>...</td>\n",
       "      <td>...</td>\n",
       "      <td>...</td>\n",
       "      <td>...</td>\n",
       "      <td>...</td>\n",
       "      <td>...</td>\n",
       "      <td>...</td>\n",
       "      <td>...</td>\n",
       "      <td>...</td>\n",
       "      <td>...</td>\n",
       "      <td>...</td>\n",
       "    </tr>\n",
       "    <tr>\n",
       "      <th>230416</th>\n",
       "      <td>1e9420836d554513ab90eba98552d0a9</td>\n",
       "      <td>offer viewed</td>\n",
       "      <td>534</td>\n",
       "      <td>22</td>\n",
       "      <td>2017-09-25</td>\n",
       "      <td>70000.0</td>\n",
       "      <td>NaN</td>\n",
       "      <td>3f207df678b143eea3cee63160fa8bed</td>\n",
       "      <td>NaN</td>\n",
       "      <td>[web, email, mobile]</td>\n",
       "      <td>0.0</td>\n",
       "      <td>4.0</td>\n",
       "      <td>1.0</td>\n",
       "      <td>1.0</td>\n",
       "      <td>0.0</td>\n",
       "      <td>1.0</td>\n",
       "      <td>0</td>\n",
       "      <td>1</td>\n",
       "      <td>0</td>\n",
       "      <td>0</td>\n",
       "      <td>0</td>\n",
       "      <td>1</td>\n",
       "    </tr>\n",
       "    <tr>\n",
       "      <th>245143</th>\n",
       "      <td>1e9420836d554513ab90eba98552d0a9</td>\n",
       "      <td>offer received</td>\n",
       "      <td>576</td>\n",
       "      <td>22</td>\n",
       "      <td>2017-09-25</td>\n",
       "      <td>70000.0</td>\n",
       "      <td>NaN</td>\n",
       "      <td>0b1e1539f2cc45b7b9fa7c272da2e1d7</td>\n",
       "      <td>NaN</td>\n",
       "      <td>[web, email]</td>\n",
       "      <td>20.0</td>\n",
       "      <td>10.0</td>\n",
       "      <td>1.0</td>\n",
       "      <td>0.0</td>\n",
       "      <td>0.0</td>\n",
       "      <td>1.0</td>\n",
       "      <td>0</td>\n",
       "      <td>1</td>\n",
       "      <td>0</td>\n",
       "      <td>0</td>\n",
       "      <td>1</td>\n",
       "      <td>0</td>\n",
       "    </tr>\n",
       "    <tr>\n",
       "      <th>257891</th>\n",
       "      <td>1e9420836d554513ab90eba98552d0a9</td>\n",
       "      <td>offer viewed</td>\n",
       "      <td>576</td>\n",
       "      <td>22</td>\n",
       "      <td>2017-09-25</td>\n",
       "      <td>70000.0</td>\n",
       "      <td>NaN</td>\n",
       "      <td>0b1e1539f2cc45b7b9fa7c272da2e1d7</td>\n",
       "      <td>NaN</td>\n",
       "      <td>[web, email]</td>\n",
       "      <td>20.0</td>\n",
       "      <td>10.0</td>\n",
       "      <td>1.0</td>\n",
       "      <td>0.0</td>\n",
       "      <td>0.0</td>\n",
       "      <td>1.0</td>\n",
       "      <td>0</td>\n",
       "      <td>1</td>\n",
       "      <td>0</td>\n",
       "      <td>0</td>\n",
       "      <td>1</td>\n",
       "      <td>0</td>\n",
       "    </tr>\n",
       "    <tr>\n",
       "      <th>271788</th>\n",
       "      <td>1e9420836d554513ab90eba98552d0a9</td>\n",
       "      <td>transaction</td>\n",
       "      <td>600</td>\n",
       "      <td>22</td>\n",
       "      <td>2017-09-25</td>\n",
       "      <td>70000.0</td>\n",
       "      <td>28.82</td>\n",
       "      <td>NaN</td>\n",
       "      <td>NaN</td>\n",
       "      <td>NaN</td>\n",
       "      <td>NaN</td>\n",
       "      <td>NaN</td>\n",
       "      <td>NaN</td>\n",
       "      <td>NaN</td>\n",
       "      <td>NaN</td>\n",
       "      <td>NaN</td>\n",
       "      <td>0</td>\n",
       "      <td>1</td>\n",
       "      <td>0</td>\n",
       "      <td>0</td>\n",
       "      <td>0</td>\n",
       "      <td>0</td>\n",
       "    </tr>\n",
       "    <tr>\n",
       "      <th>271789</th>\n",
       "      <td>1e9420836d554513ab90eba98552d0a9</td>\n",
       "      <td>offer completed</td>\n",
       "      <td>600</td>\n",
       "      <td>22</td>\n",
       "      <td>2017-09-25</td>\n",
       "      <td>70000.0</td>\n",
       "      <td>NaN</td>\n",
       "      <td>NaN</td>\n",
       "      <td>5.0</td>\n",
       "      <td>NaN</td>\n",
       "      <td>NaN</td>\n",
       "      <td>NaN</td>\n",
       "      <td>NaN</td>\n",
       "      <td>NaN</td>\n",
       "      <td>NaN</td>\n",
       "      <td>NaN</td>\n",
       "      <td>0</td>\n",
       "      <td>1</td>\n",
       "      <td>0</td>\n",
       "      <td>0</td>\n",
       "      <td>0</td>\n",
       "      <td>0</td>\n",
       "    </tr>\n",
       "  </tbody>\n",
       "</table>\n",
       "<p>22 rows × 22 columns</p>\n",
       "</div>"
      ],
      "text/plain": [
       "                                  person            event  time  age  \\\n",
       "19      1e9420836d554513ab90eba98552d0a9   offer received     0   22   \n",
       "40779   1e9420836d554513ab90eba98552d0a9     offer viewed    96   22   \n",
       "53196   1e9420836d554513ab90eba98552d0a9   offer received   168   22   \n",
       "69328   1e9420836d554513ab90eba98552d0a9     offer viewed   174   22   \n",
       "79426   1e9420836d554513ab90eba98552d0a9      transaction   198   22   \n",
       "...                                  ...              ...   ...  ...   \n",
       "230416  1e9420836d554513ab90eba98552d0a9     offer viewed   534   22   \n",
       "245143  1e9420836d554513ab90eba98552d0a9   offer received   576   22   \n",
       "257891  1e9420836d554513ab90eba98552d0a9     offer viewed   576   22   \n",
       "271788  1e9420836d554513ab90eba98552d0a9      transaction   600   22   \n",
       "271789  1e9420836d554513ab90eba98552d0a9  offer completed   600   22   \n",
       "\n",
       "       became_member_on   income  transaction_amt  \\\n",
       "19           2017-09-25  70000.0              NaN   \n",
       "40779        2017-09-25  70000.0              NaN   \n",
       "53196        2017-09-25  70000.0              NaN   \n",
       "69328        2017-09-25  70000.0              NaN   \n",
       "79426        2017-09-25  70000.0            17.11   \n",
       "...                 ...      ...              ...   \n",
       "230416       2017-09-25  70000.0              NaN   \n",
       "245143       2017-09-25  70000.0              NaN   \n",
       "257891       2017-09-25  70000.0              NaN   \n",
       "271788       2017-09-25  70000.0            28.82   \n",
       "271789       2017-09-25  70000.0              NaN   \n",
       "\n",
       "                                offer_id  reward_received  \\\n",
       "19      ae264e3637204a6fb9bb56bc8210ddfd              NaN   \n",
       "40779   ae264e3637204a6fb9bb56bc8210ddfd              NaN   \n",
       "53196   4d5c57ea9a6940dd891ad53e9dbe8da0              NaN   \n",
       "69328   4d5c57ea9a6940dd891ad53e9dbe8da0              NaN   \n",
       "79426                                NaN              NaN   \n",
       "...                                  ...              ...   \n",
       "230416  3f207df678b143eea3cee63160fa8bed              NaN   \n",
       "245143  0b1e1539f2cc45b7b9fa7c272da2e1d7              NaN   \n",
       "257891  0b1e1539f2cc45b7b9fa7c272da2e1d7              NaN   \n",
       "271788                               NaN              NaN   \n",
       "271789                               NaN              5.0   \n",
       "\n",
       "                            channels  difficulty  duration  email  mobile  \\\n",
       "19           [email, mobile, social]        10.0       7.0    1.0     1.0   \n",
       "40779        [email, mobile, social]        10.0       7.0    1.0     1.0   \n",
       "53196   [web, email, mobile, social]        10.0       5.0    1.0     1.0   \n",
       "69328   [web, email, mobile, social]        10.0       5.0    1.0     1.0   \n",
       "79426                            NaN         NaN       NaN    NaN     NaN   \n",
       "...                              ...         ...       ...    ...     ...   \n",
       "230416          [web, email, mobile]         0.0       4.0    1.0     1.0   \n",
       "245143                  [web, email]        20.0      10.0    1.0     0.0   \n",
       "257891                  [web, email]        20.0      10.0    1.0     0.0   \n",
       "271788                           NaN         NaN       NaN    NaN     NaN   \n",
       "271789                           NaN         NaN       NaN    NaN     NaN   \n",
       "\n",
       "        social  web  gender_F  gender_M  gender_O  offer_type_bogo  \\\n",
       "19         1.0  0.0         0         1         0                1   \n",
       "40779      1.0  0.0         0         1         0                1   \n",
       "53196      1.0  1.0         0         1         0                1   \n",
       "69328      1.0  1.0         0         1         0                1   \n",
       "79426      NaN  NaN         0         1         0                0   \n",
       "...        ...  ...       ...       ...       ...              ...   \n",
       "230416     0.0  1.0         0         1         0                0   \n",
       "245143     0.0  1.0         0         1         0                0   \n",
       "257891     0.0  1.0         0         1         0                0   \n",
       "271788     NaN  NaN         0         1         0                0   \n",
       "271789     NaN  NaN         0         1         0                0   \n",
       "\n",
       "        offer_type_discount  offer_type_informational  \n",
       "19                        0                         0  \n",
       "40779                     0                         0  \n",
       "53196                     0                         0  \n",
       "69328                     0                         0  \n",
       "79426                     0                         0  \n",
       "...                     ...                       ...  \n",
       "230416                    0                         1  \n",
       "245143                    1                         0  \n",
       "257891                    1                         0  \n",
       "271788                    0                         0  \n",
       "271789                    0                         0  \n",
       "\n",
       "[22 rows x 22 columns]"
      ]
     },
     "execution_count": 273,
     "metadata": {},
     "output_type": "execute_result"
    }
   ],
   "source": [
    "df.loc[df['person']== '1e9420836d554513ab90eba98552d0a9']"
   ]
  },
  {
   "cell_type": "code",
   "execution_count": null,
   "metadata": {},
   "outputs": [],
   "source": []
  },
  {
   "cell_type": "code",
   "execution_count": null,
   "metadata": {},
   "outputs": [],
   "source": []
  },
  {
   "cell_type": "code",
   "execution_count": 199,
   "metadata": {},
   "outputs": [],
   "source": [
    "df.rename(columns={'reward_x':'reward_received', 'offer_type_y':'offer_type'}, inplace=True)\n"
   ]
  },
  {
   "cell_type": "markdown",
   "metadata": {},
   "source": [
    "### Objectives\n",
    "1. Predict how much a user will spend based on demographics and offer type.\n",
    "2. Determine which demographics we should send which offers to. \n",
    "3. Which types of channels are are most effective and lead to customer purchases"
   ]
  },
  {
   "cell_type": "code",
   "execution_count": 202,
   "metadata": {},
   "outputs": [],
   "source": [
    "df = pd.get_dummies(df, columns=['gender', 'offer_type'])\n"
   ]
  },
  {
   "cell_type": "code",
   "execution_count": 205,
   "metadata": {},
   "outputs": [],
   "source": [
    "df['became_member_on'] = pd.to_datetime(df['became_member_on'], format='%Y%m%d')"
   ]
  },
  {
   "cell_type": "markdown",
   "metadata": {},
   "source": [
    "determine if a transaction was made in the given duration\n"
   ]
  },
  {
   "cell_type": "code",
   "execution_count": 244,
   "metadata": {},
   "outputs": [
    {
     "data": {
      "text/html": [
       "<div>\n",
       "<style scoped>\n",
       "    .dataframe tbody tr th:only-of-type {\n",
       "        vertical-align: middle;\n",
       "    }\n",
       "\n",
       "    .dataframe tbody tr th {\n",
       "        vertical-align: top;\n",
       "    }\n",
       "\n",
       "    .dataframe thead th {\n",
       "        text-align: right;\n",
       "    }\n",
       "</style>\n",
       "<table border=\"1\" class=\"dataframe\">\n",
       "  <thead>\n",
       "    <tr style=\"text-align: right;\">\n",
       "      <th></th>\n",
       "      <th>person</th>\n",
       "      <th>event</th>\n",
       "      <th>time</th>\n",
       "      <th>age</th>\n",
       "      <th>became_member_on</th>\n",
       "      <th>income</th>\n",
       "      <th>transaction_amt</th>\n",
       "      <th>offer_id</th>\n",
       "      <th>reward_received</th>\n",
       "      <th>channels</th>\n",
       "      <th>difficulty</th>\n",
       "      <th>duration</th>\n",
       "      <th>email</th>\n",
       "      <th>mobile</th>\n",
       "      <th>social</th>\n",
       "      <th>web</th>\n",
       "      <th>gender_F</th>\n",
       "      <th>gender_M</th>\n",
       "      <th>gender_O</th>\n",
       "      <th>offer_type_bogo</th>\n",
       "      <th>offer_type_discount</th>\n",
       "      <th>offer_type_informational</th>\n",
       "    </tr>\n",
       "  </thead>\n",
       "  <tbody>\n",
       "  </tbody>\n",
       "</table>\n",
       "</div>"
      ],
      "text/plain": [
       "Empty DataFrame\n",
       "Columns: [person, event, time, age, became_member_on, income, transaction_amt, offer_id, reward_received, channels, difficulty, duration, email, mobile, social, web, gender_F, gender_M, gender_O, offer_type_bogo, offer_type_discount, offer_type_informational]\n",
       "Index: []"
      ]
     },
     "execution_count": 244,
     "metadata": {},
     "output_type": "execute_result"
    }
   ],
   "source": [
    "person_df = df.loc[df['person'] == '78afa995795e4d85b5d9ceeca43f5fef']\n",
    "person_df.loc[(df['event'] == 'offer_viewed') | (df['event'] == 'offer_completed')]\n"
   ]
  },
  {
   "cell_type": "code",
   "execution_count": null,
   "metadata": {},
   "outputs": [],
   "source": []
  },
  {
   "cell_type": "code",
   "execution_count": null,
   "metadata": {},
   "outputs": [],
   "source": []
  },
  {
   "cell_type": "code",
   "execution_count": null,
   "metadata": {},
   "outputs": [],
   "source": []
  },
  {
   "cell_type": "code",
   "execution_count": null,
   "metadata": {},
   "outputs": [],
   "source": [
    "def influenced_by_offer(person, df=df):\n",
    "    for person in df['person'].unique():\n",
    "        person_df = df.loc[df['person'] == person]\n",
    "        \n",
    "        \n",
    "    \n",
    "    "
   ]
  }
 ],
 "metadata": {
  "kernelspec": {
   "display_name": "Python 3",
   "language": "python",
   "name": "python3"
  },
  "language_info": {
   "codemirror_mode": {
    "name": "ipython",
    "version": 3
   },
   "file_extension": ".py",
   "mimetype": "text/x-python",
   "name": "python",
   "nbconvert_exporter": "python",
   "pygments_lexer": "ipython3",
   "version": "3.7.4"
  }
 },
 "nbformat": 4,
 "nbformat_minor": 4
}
